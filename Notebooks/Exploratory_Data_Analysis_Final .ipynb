{
  "nbformat": 4,
  "nbformat_minor": 0,
  "metadata": {
    "colab": {
      "name": "Exploratory_Data_Analysis_Final.ipynb",
      "provenance": [],
      "collapsed_sections": []
    },
    "kernelspec": {
      "name": "python3",
      "display_name": "Python 3"
    }
  },
  "cells": [
    {
      "cell_type": "code",
      "metadata": {
        "id": "xqUhg4QLqvsY",
        "colab_type": "code",
        "colab": {}
      },
      "source": [
        "!pip install gensim nltk"
      ],
      "execution_count": 0,
      "outputs": []
    },
    {
      "cell_type": "code",
      "metadata": {
        "id": "qtw4mDH3UoUp",
        "colab_type": "code",
        "outputId": "5cace0a4-0481-49ad-abc7-e92adb4a3d8b",
        "colab": {
          "base_uri": "https://localhost:8080/",
          "height": 667
        }
      },
      "source": [
        "#Loading the Data Crawled from Reddit\n",
        "import pandas as pd\n",
        "data = pd.read_csv('/content/Reddit_data.csv')\n",
        "data.head(5)"
      ],
      "execution_count": 0,
      "outputs": [
        {
          "output_type": "execute_result",
          "data": {
            "text/html": [
              "<div>\n",
              "<style scoped>\n",
              "    .dataframe tbody tr th:only-of-type {\n",
              "        vertical-align: middle;\n",
              "    }\n",
              "\n",
              "    .dataframe tbody tr th {\n",
              "        vertical-align: top;\n",
              "    }\n",
              "\n",
              "    .dataframe thead th {\n",
              "        text-align: right;\n",
              "    }\n",
              "</style>\n",
              "<table border=\"1\" class=\"dataframe\">\n",
              "  <thead>\n",
              "    <tr style=\"text-align: right;\">\n",
              "      <th></th>\n",
              "      <th>Unnamed: 0</th>\n",
              "      <th>flair</th>\n",
              "      <th>title</th>\n",
              "      <th>score</th>\n",
              "      <th>id</th>\n",
              "      <th>url</th>\n",
              "      <th>num_comm</th>\n",
              "      <th>body</th>\n",
              "      <th>created</th>\n",
              "      <th>author</th>\n",
              "      <th>comments</th>\n",
              "    </tr>\n",
              "  </thead>\n",
              "  <tbody>\n",
              "    <tr>\n",
              "      <th>0</th>\n",
              "      <td>0</td>\n",
              "      <td>Politics</td>\n",
              "      <td>A polite request to all Indians here</td>\n",
              "      <td>403</td>\n",
              "      <td>g2ct57</td>\n",
              "      <td>https://www.reddit.com/r/india/comments/g2ct57...</td>\n",
              "      <td>82</td>\n",
              "      <td>I don't know if it is the same situation in ot...</td>\n",
              "      <td>1.587063e+09</td>\n",
              "      <td>aaluinsonaout</td>\n",
              "      <td>Our society thrives on abuse of power. We let...</td>\n",
              "    </tr>\n",
              "    <tr>\n",
              "      <th>1</th>\n",
              "      <td>1</td>\n",
              "      <td>Politics</td>\n",
              "      <td>Pitting a community against a political party ...</td>\n",
              "      <td>198</td>\n",
              "      <td>futac9</td>\n",
              "      <td>https://www.reddit.com/r/india/comments/futac9...</td>\n",
              "      <td>73</td>\n",
              "      <td>First of all let me start by saying it was stu...</td>\n",
              "      <td>1.586034e+09</td>\n",
              "      <td>chillinvillain122</td>\n",
              "      <td>Our country is just too far in at the moment ...</td>\n",
              "    </tr>\n",
              "    <tr>\n",
              "      <th>2</th>\n",
              "      <td>2</td>\n",
              "      <td>Politics</td>\n",
              "      <td>Hit by backlash over posts on lack of medical ...</td>\n",
              "      <td>402</td>\n",
              "      <td>fpaj1w</td>\n",
              "      <td>https://theprint.in/india/hit-by-backlash-over...</td>\n",
              "      <td>67</td>\n",
              "      <td>NaN</td>\n",
              "      <td>1.585254e+09</td>\n",
              "      <td>hipporama</td>\n",
              "      <td>Well, Some people really deserve to die. ~~/s...</td>\n",
              "    </tr>\n",
              "    <tr>\n",
              "      <th>3</th>\n",
              "      <td>3</td>\n",
              "      <td>Politics</td>\n",
              "      <td>A new political party gave a full front page a...</td>\n",
              "      <td>730</td>\n",
              "      <td>ff8sth</td>\n",
              "      <td>https://i.redd.it/yjo9wpy38el41.jpg</td>\n",
              "      <td>146</td>\n",
              "      <td>NaN</td>\n",
              "      <td>1.583678e+09</td>\n",
              "      <td>aaluinsonaout</td>\n",
              "      <td>This looks like an IIPM ad 1. Where did they ...</td>\n",
              "    </tr>\n",
              "    <tr>\n",
              "      <th>4</th>\n",
              "      <td>4</td>\n",
              "      <td>Politics</td>\n",
              "      <td>Politics in the time of corona: WB CM question...</td>\n",
              "      <td>82</td>\n",
              "      <td>fxs1vy</td>\n",
              "      <td>https://www.timesnownews.com/india/article/pol...</td>\n",
              "      <td>22</td>\n",
              "      <td>NaN</td>\n",
              "      <td>1.586466e+09</td>\n",
              "      <td>ConcernedCitizen034</td>\n",
              "      <td>Oh FFS. \\n\\nYellow, Orange, Green, Red, all a...</td>\n",
              "    </tr>\n",
              "  </tbody>\n",
              "</table>\n",
              "</div>"
            ],
            "text/plain": [
              "   Unnamed: 0  ...                                           comments\n",
              "0           0  ...   Our society thrives on abuse of power. We let...\n",
              "1           1  ...   Our country is just too far in at the moment ...\n",
              "2           2  ...   Well, Some people really deserve to die. ~~/s...\n",
              "3           3  ...   This looks like an IIPM ad 1. Where did they ...\n",
              "4           4  ...   Oh FFS. \\n\\nYellow, Orange, Green, Red, all a...\n",
              "\n",
              "[5 rows x 11 columns]"
            ]
          },
          "metadata": {
            "tags": []
          },
          "execution_count": 2
        }
      ]
    },
    {
      "cell_type": "code",
      "metadata": {
        "id": "eXhT6OP7V5zJ",
        "colab_type": "code",
        "outputId": "0a9d8c44-c930-4479-fd6c-ba709abf27ef",
        "colab": {
          "base_uri": "https://localhost:8080/",
          "height": 407
        }
      },
      "source": [
        "#Checking for Presence of Null Values in Data\n",
        "data.isnull()"
      ],
      "execution_count": 0,
      "outputs": [
        {
          "output_type": "execute_result",
          "data": {
            "text/html": [
              "<div>\n",
              "<style scoped>\n",
              "    .dataframe tbody tr th:only-of-type {\n",
              "        vertical-align: middle;\n",
              "    }\n",
              "\n",
              "    .dataframe tbody tr th {\n",
              "        vertical-align: top;\n",
              "    }\n",
              "\n",
              "    .dataframe thead th {\n",
              "        text-align: right;\n",
              "    }\n",
              "</style>\n",
              "<table border=\"1\" class=\"dataframe\">\n",
              "  <thead>\n",
              "    <tr style=\"text-align: right;\">\n",
              "      <th></th>\n",
              "      <th>Unnamed: 0</th>\n",
              "      <th>flair</th>\n",
              "      <th>title</th>\n",
              "      <th>score</th>\n",
              "      <th>id</th>\n",
              "      <th>url</th>\n",
              "      <th>num_comm</th>\n",
              "      <th>body</th>\n",
              "      <th>created</th>\n",
              "      <th>author</th>\n",
              "      <th>comments</th>\n",
              "    </tr>\n",
              "  </thead>\n",
              "  <tbody>\n",
              "    <tr>\n",
              "      <th>0</th>\n",
              "      <td>False</td>\n",
              "      <td>False</td>\n",
              "      <td>False</td>\n",
              "      <td>False</td>\n",
              "      <td>False</td>\n",
              "      <td>False</td>\n",
              "      <td>False</td>\n",
              "      <td>False</td>\n",
              "      <td>False</td>\n",
              "      <td>False</td>\n",
              "      <td>False</td>\n",
              "    </tr>\n",
              "    <tr>\n",
              "      <th>1</th>\n",
              "      <td>False</td>\n",
              "      <td>False</td>\n",
              "      <td>False</td>\n",
              "      <td>False</td>\n",
              "      <td>False</td>\n",
              "      <td>False</td>\n",
              "      <td>False</td>\n",
              "      <td>False</td>\n",
              "      <td>False</td>\n",
              "      <td>False</td>\n",
              "      <td>False</td>\n",
              "    </tr>\n",
              "    <tr>\n",
              "      <th>2</th>\n",
              "      <td>False</td>\n",
              "      <td>False</td>\n",
              "      <td>False</td>\n",
              "      <td>False</td>\n",
              "      <td>False</td>\n",
              "      <td>False</td>\n",
              "      <td>False</td>\n",
              "      <td>True</td>\n",
              "      <td>False</td>\n",
              "      <td>False</td>\n",
              "      <td>False</td>\n",
              "    </tr>\n",
              "    <tr>\n",
              "      <th>3</th>\n",
              "      <td>False</td>\n",
              "      <td>False</td>\n",
              "      <td>False</td>\n",
              "      <td>False</td>\n",
              "      <td>False</td>\n",
              "      <td>False</td>\n",
              "      <td>False</td>\n",
              "      <td>True</td>\n",
              "      <td>False</td>\n",
              "      <td>False</td>\n",
              "      <td>False</td>\n",
              "    </tr>\n",
              "    <tr>\n",
              "      <th>4</th>\n",
              "      <td>False</td>\n",
              "      <td>False</td>\n",
              "      <td>False</td>\n",
              "      <td>False</td>\n",
              "      <td>False</td>\n",
              "      <td>False</td>\n",
              "      <td>False</td>\n",
              "      <td>True</td>\n",
              "      <td>False</td>\n",
              "      <td>False</td>\n",
              "      <td>False</td>\n",
              "    </tr>\n",
              "    <tr>\n",
              "      <th>...</th>\n",
              "      <td>...</td>\n",
              "      <td>...</td>\n",
              "      <td>...</td>\n",
              "      <td>...</td>\n",
              "      <td>...</td>\n",
              "      <td>...</td>\n",
              "      <td>...</td>\n",
              "      <td>...</td>\n",
              "      <td>...</td>\n",
              "      <td>...</td>\n",
              "      <td>...</td>\n",
              "    </tr>\n",
              "    <tr>\n",
              "      <th>2414</th>\n",
              "      <td>False</td>\n",
              "      <td>False</td>\n",
              "      <td>False</td>\n",
              "      <td>False</td>\n",
              "      <td>False</td>\n",
              "      <td>False</td>\n",
              "      <td>False</td>\n",
              "      <td>False</td>\n",
              "      <td>False</td>\n",
              "      <td>False</td>\n",
              "      <td>False</td>\n",
              "    </tr>\n",
              "    <tr>\n",
              "      <th>2415</th>\n",
              "      <td>False</td>\n",
              "      <td>False</td>\n",
              "      <td>False</td>\n",
              "      <td>False</td>\n",
              "      <td>False</td>\n",
              "      <td>False</td>\n",
              "      <td>False</td>\n",
              "      <td>False</td>\n",
              "      <td>False</td>\n",
              "      <td>False</td>\n",
              "      <td>False</td>\n",
              "    </tr>\n",
              "    <tr>\n",
              "      <th>2416</th>\n",
              "      <td>False</td>\n",
              "      <td>False</td>\n",
              "      <td>False</td>\n",
              "      <td>False</td>\n",
              "      <td>False</td>\n",
              "      <td>False</td>\n",
              "      <td>False</td>\n",
              "      <td>False</td>\n",
              "      <td>False</td>\n",
              "      <td>False</td>\n",
              "      <td>False</td>\n",
              "    </tr>\n",
              "    <tr>\n",
              "      <th>2417</th>\n",
              "      <td>False</td>\n",
              "      <td>False</td>\n",
              "      <td>False</td>\n",
              "      <td>False</td>\n",
              "      <td>False</td>\n",
              "      <td>False</td>\n",
              "      <td>False</td>\n",
              "      <td>False</td>\n",
              "      <td>False</td>\n",
              "      <td>False</td>\n",
              "      <td>False</td>\n",
              "    </tr>\n",
              "    <tr>\n",
              "      <th>2418</th>\n",
              "      <td>False</td>\n",
              "      <td>False</td>\n",
              "      <td>False</td>\n",
              "      <td>False</td>\n",
              "      <td>False</td>\n",
              "      <td>False</td>\n",
              "      <td>False</td>\n",
              "      <td>False</td>\n",
              "      <td>False</td>\n",
              "      <td>False</td>\n",
              "      <td>False</td>\n",
              "    </tr>\n",
              "  </tbody>\n",
              "</table>\n",
              "<p>2419 rows × 11 columns</p>\n",
              "</div>"
            ],
            "text/plain": [
              "      Unnamed: 0  flair  title  score  ...   body  created  author  comments\n",
              "0          False  False  False  False  ...  False    False   False     False\n",
              "1          False  False  False  False  ...  False    False   False     False\n",
              "2          False  False  False  False  ...   True    False   False     False\n",
              "3          False  False  False  False  ...   True    False   False     False\n",
              "4          False  False  False  False  ...   True    False   False     False\n",
              "...          ...    ...    ...    ...  ...    ...      ...     ...       ...\n",
              "2414       False  False  False  False  ...  False    False   False     False\n",
              "2415       False  False  False  False  ...  False    False   False     False\n",
              "2416       False  False  False  False  ...  False    False   False     False\n",
              "2417       False  False  False  False  ...  False    False   False     False\n",
              "2418       False  False  False  False  ...  False    False   False     False\n",
              "\n",
              "[2419 rows x 11 columns]"
            ]
          },
          "metadata": {
            "tags": []
          },
          "execution_count": 3
        }
      ]
    },
    {
      "cell_type": "code",
      "metadata": {
        "id": "cSf9NEl9WDbv",
        "colab_type": "code",
        "outputId": "66ec8f34-8c20-48bc-eb38-d55a014fd04d",
        "colab": {
          "base_uri": "https://localhost:8080/",
          "height": 235
        }
      },
      "source": [
        "data.isnull().sum()"
      ],
      "execution_count": 0,
      "outputs": [
        {
          "output_type": "execute_result",
          "data": {
            "text/plain": [
              "Unnamed: 0      0\n",
              "flair           0\n",
              "title           0\n",
              "score           0\n",
              "id              0\n",
              "url             0\n",
              "num_comm        0\n",
              "body          873\n",
              "created         0\n",
              "author          0\n",
              "comments      185\n",
              "dtype: int64"
            ]
          },
          "metadata": {
            "tags": []
          },
          "execution_count": 4
        }
      ]
    },
    {
      "cell_type": "code",
      "metadata": {
        "id": "oR2QiZzRWHli",
        "colab_type": "code",
        "outputId": "2496c4a0-8a03-42bb-cc5e-a2cb664bebea",
        "colab": {
          "base_uri": "https://localhost:8080/",
          "height": 235
        }
      },
      "source": [
        "#Removing the Null Values(Depending upon how it affects Accuracy)\n",
        "\n",
        "'''data = data.dropna().reset_index(drop=True)\n",
        "data.isnull().sum()'''"
      ],
      "execution_count": 0,
      "outputs": [
        {
          "output_type": "execute_result",
          "data": {
            "text/plain": [
              "Unnamed: 0    0\n",
              "flair         0\n",
              "title         0\n",
              "score         0\n",
              "id            0\n",
              "url           0\n",
              "num_comm      0\n",
              "body          0\n",
              "created       0\n",
              "author        0\n",
              "comments      0\n",
              "dtype: int64"
            ]
          },
          "metadata": {
            "tags": []
          },
          "execution_count": 6
        }
      ]
    },
    {
      "cell_type": "code",
      "metadata": {
        "id": "DFOJdLpAXKeK",
        "colab_type": "code",
        "colab": {}
      },
      "source": [
        "''' Experimentation Suggested that dropping Data Points containing null Values makes the DataSet Highly\n",
        "Biased. Hence, the Null Data Points weren't Dropped.'''"
      ],
      "execution_count": 0,
      "outputs": []
    },
    {
      "cell_type": "code",
      "metadata": {
        "id": "XrmoF2WpTwTp",
        "colab_type": "code",
        "outputId": "2906d464-9b68-4a59-a45c-7a4f3edc2f1b",
        "colab": {
          "base_uri": "https://localhost:8080/",
          "height": 54
        }
      },
      "source": [
        "#Importing Libraries for Data Cleaning, Processing and Visualisation\n",
        "\n",
        "import numpy as np\n",
        "import pandas as pd\n",
        "import matplotlib.pyplot as plt\n",
        "from bs4 import BeautifulSoup\n",
        "import re\n",
        "import nltk\n",
        "nltk.download('stopwords')\n",
        "from nltk.corpus import stopwords"
      ],
      "execution_count": 0,
      "outputs": [
        {
          "output_type": "stream",
          "text": [
            "[nltk_data] Downloading package stopwords to /root/nltk_data...\n",
            "[nltk_data]   Unzipping corpora/stopwords.zip.\n"
          ],
          "name": "stdout"
        }
      ]
    },
    {
      "cell_type": "code",
      "metadata": {
        "id": "2MYWjgKGikd9",
        "colab_type": "code",
        "colab": {}
      },
      "source": [
        "#Data Pre-Processing(Treating Symbols and Stopwords Present in Data)\n",
        "\n",
        "REPLACE_BY_SPACE_RE = re.compile('[/(){}\\[\\]\\|@,;]') #These Symbols will be replaced with Space\n",
        "BAD_SYMBOLS_RE = re.compile('[^0-9a-z #+_]')         #These Symbols will be Removed from Text\n",
        "STOPWORDS = set(stopwords.words('english')) \n",
        "\n",
        "#On Experimentation it was  found that Words like India, india, https, http create Un-healthy bias. Hence they were added to StopWords list.\n",
        "STOPWORDS.add('India')\n",
        "STOPWORDS.add('india')  \n",
        "STOPWORDS.update((  'https','http')) \n",
        "\n"
      ],
      "execution_count": 0,
      "outputs": []
    },
    {
      "cell_type": "code",
      "metadata": {
        "id": "sgBO9QGcbI3n",
        "colab_type": "code",
        "outputId": "51a1224f-d988-470a-987f-49a7fdca0dfd",
        "colab": {
          "base_uri": "https://localhost:8080/",
          "height": 667
        }
      },
      "source": [
        "data.head()"
      ],
      "execution_count": 0,
      "outputs": [
        {
          "output_type": "execute_result",
          "data": {
            "text/html": [
              "<div>\n",
              "<style scoped>\n",
              "    .dataframe tbody tr th:only-of-type {\n",
              "        vertical-align: middle;\n",
              "    }\n",
              "\n",
              "    .dataframe tbody tr th {\n",
              "        vertical-align: top;\n",
              "    }\n",
              "\n",
              "    .dataframe thead th {\n",
              "        text-align: right;\n",
              "    }\n",
              "</style>\n",
              "<table border=\"1\" class=\"dataframe\">\n",
              "  <thead>\n",
              "    <tr style=\"text-align: right;\">\n",
              "      <th></th>\n",
              "      <th>Unnamed: 0</th>\n",
              "      <th>flair</th>\n",
              "      <th>title</th>\n",
              "      <th>score</th>\n",
              "      <th>id</th>\n",
              "      <th>url</th>\n",
              "      <th>num_comm</th>\n",
              "      <th>body</th>\n",
              "      <th>created</th>\n",
              "      <th>author</th>\n",
              "      <th>comments</th>\n",
              "    </tr>\n",
              "  </thead>\n",
              "  <tbody>\n",
              "    <tr>\n",
              "      <th>0</th>\n",
              "      <td>0</td>\n",
              "      <td>Politics</td>\n",
              "      <td>A polite request to all Indians here</td>\n",
              "      <td>403</td>\n",
              "      <td>g2ct57</td>\n",
              "      <td>https://www.reddit.com/r/india/comments/g2ct57...</td>\n",
              "      <td>82</td>\n",
              "      <td>I don't know if it is the same situation in ot...</td>\n",
              "      <td>1.587063e+09</td>\n",
              "      <td>aaluinsonaout</td>\n",
              "      <td>Our society thrives on abuse of power. We let...</td>\n",
              "    </tr>\n",
              "    <tr>\n",
              "      <th>1</th>\n",
              "      <td>1</td>\n",
              "      <td>Politics</td>\n",
              "      <td>Pitting a community against a political party ...</td>\n",
              "      <td>198</td>\n",
              "      <td>futac9</td>\n",
              "      <td>https://www.reddit.com/r/india/comments/futac9...</td>\n",
              "      <td>73</td>\n",
              "      <td>First of all let me start by saying it was stu...</td>\n",
              "      <td>1.586034e+09</td>\n",
              "      <td>chillinvillain122</td>\n",
              "      <td>Our country is just too far in at the moment ...</td>\n",
              "    </tr>\n",
              "    <tr>\n",
              "      <th>2</th>\n",
              "      <td>2</td>\n",
              "      <td>Politics</td>\n",
              "      <td>Hit by backlash over posts on lack of medical ...</td>\n",
              "      <td>402</td>\n",
              "      <td>fpaj1w</td>\n",
              "      <td>https://theprint.in/india/hit-by-backlash-over...</td>\n",
              "      <td>67</td>\n",
              "      <td>NaN</td>\n",
              "      <td>1.585254e+09</td>\n",
              "      <td>hipporama</td>\n",
              "      <td>Well, Some people really deserve to die. ~~/s...</td>\n",
              "    </tr>\n",
              "    <tr>\n",
              "      <th>3</th>\n",
              "      <td>3</td>\n",
              "      <td>Politics</td>\n",
              "      <td>A new political party gave a full front page a...</td>\n",
              "      <td>730</td>\n",
              "      <td>ff8sth</td>\n",
              "      <td>https://i.redd.it/yjo9wpy38el41.jpg</td>\n",
              "      <td>146</td>\n",
              "      <td>NaN</td>\n",
              "      <td>1.583678e+09</td>\n",
              "      <td>aaluinsonaout</td>\n",
              "      <td>This looks like an IIPM ad 1. Where did they ...</td>\n",
              "    </tr>\n",
              "    <tr>\n",
              "      <th>4</th>\n",
              "      <td>4</td>\n",
              "      <td>Politics</td>\n",
              "      <td>Politics in the time of corona: WB CM question...</td>\n",
              "      <td>82</td>\n",
              "      <td>fxs1vy</td>\n",
              "      <td>https://www.timesnownews.com/india/article/pol...</td>\n",
              "      <td>22</td>\n",
              "      <td>NaN</td>\n",
              "      <td>1.586466e+09</td>\n",
              "      <td>ConcernedCitizen034</td>\n",
              "      <td>Oh FFS. \\n\\nYellow, Orange, Green, Red, all a...</td>\n",
              "    </tr>\n",
              "  </tbody>\n",
              "</table>\n",
              "</div>"
            ],
            "text/plain": [
              "   Unnamed: 0  ...                                           comments\n",
              "0           0  ...   Our society thrives on abuse of power. We let...\n",
              "1           1  ...   Our country is just too far in at the moment ...\n",
              "2           2  ...   Well, Some people really deserve to die. ~~/s...\n",
              "3           3  ...   This looks like an IIPM ad 1. Where did they ...\n",
              "4           4  ...   Oh FFS. \\n\\nYellow, Orange, Green, Red, all a...\n",
              "\n",
              "[5 rows x 11 columns]"
            ]
          },
          "metadata": {
            "tags": []
          },
          "execution_count": 7
        }
      ]
    },
    {
      "cell_type": "code",
      "metadata": {
        "id": "ykU9lQC2fwAe",
        "colab_type": "code",
        "colab": {}
      },
      "source": [
        "#Text Cleaning Functions\n",
        "\n",
        "def string_form(value):\n",
        "    return str(value)\n",
        "\n",
        "def clean_text(text):\n",
        "   \n",
        "    text = BeautifulSoup(text, \"lxml\").text\n",
        "    text = text.lower()  #LowerCase Text\n",
        "    text = REPLACE_BY_SPACE_RE.sub(' ', text) #Replace Certain Symbols by Space in Text\n",
        "    text = BAD_SYMBOLS_RE.sub('', text) #Delete Certain Symbols from Text\n",
        "    text = ' '.join(word for word in text.split() if word not in STOPWORDS) #Remove Stopwords from Text\n",
        "    return text"
      ],
      "execution_count": 0,
      "outputs": []
    },
    {
      "cell_type": "code",
      "metadata": {
        "id": "axNgb_tmUEVS",
        "colab_type": "code",
        "outputId": "e0f10bda-9f9b-49dc-a8cd-132861540f6e",
        "colab": {
          "base_uri": "https://localhost:8080/",
          "height": 74
        }
      },
      "source": [
        "#Text Pre-Processing\n",
        "\n",
        "data[\"title\"] = data[\"title\"].apply(string_form)\n",
        "data['body'] = data['body'].apply(string_form)\n",
        "data['comments'] = data['comments'].apply(string_form)\n",
        "\n",
        "#Applying all the Text-Cleaning Operations\n",
        "\n",
        "data['title'] = data['title'].apply(clean_text)\n",
        "data['body'] = data['body'].apply(clean_text)\n",
        "data['comments'] = data['comments'].apply(clean_text)\n",
        "\n",
        "feature_combine = data[\"title\"] + data[\"comments\"] + data[\"url\"] + data[\"body\"]\n",
        "data = data.assign(feature_combine = feature_combine)"
      ],
      "execution_count": 0,
      "outputs": [
        {
          "output_type": "stream",
          "text": [
            "/usr/local/lib/python3.6/dist-packages/bs4/__init__.py:336: UserWarning: \"https://youtu.be/kBvIqVr__C0\" looks like a URL. Beautiful Soup is not an HTTP client. You should probably use an HTTP client like requests to get the document behind the URL, and feed that document to Beautiful Soup.\n",
            "  ' that document to Beautiful Soup.' % decoded_markup\n"
          ],
          "name": "stderr"
        }
      ]
    },
    {
      "cell_type": "code",
      "metadata": {
        "id": "AB5O049UhVxU",
        "colab_type": "code",
        "outputId": "eeec25fd-51c8-4818-8d8a-3103c384843e",
        "colab": {
          "base_uri": "https://localhost:8080/",
          "height": 702
        }
      },
      "source": [
        "data.head(5)"
      ],
      "execution_count": 0,
      "outputs": [
        {
          "output_type": "execute_result",
          "data": {
            "text/html": [
              "<div>\n",
              "<style scoped>\n",
              "    .dataframe tbody tr th:only-of-type {\n",
              "        vertical-align: middle;\n",
              "    }\n",
              "\n",
              "    .dataframe tbody tr th {\n",
              "        vertical-align: top;\n",
              "    }\n",
              "\n",
              "    .dataframe thead th {\n",
              "        text-align: right;\n",
              "    }\n",
              "</style>\n",
              "<table border=\"1\" class=\"dataframe\">\n",
              "  <thead>\n",
              "    <tr style=\"text-align: right;\">\n",
              "      <th></th>\n",
              "      <th>Unnamed: 0</th>\n",
              "      <th>flair</th>\n",
              "      <th>title</th>\n",
              "      <th>score</th>\n",
              "      <th>id</th>\n",
              "      <th>url</th>\n",
              "      <th>num_comm</th>\n",
              "      <th>body</th>\n",
              "      <th>created</th>\n",
              "      <th>author</th>\n",
              "      <th>comments</th>\n",
              "      <th>feature_combine</th>\n",
              "    </tr>\n",
              "  </thead>\n",
              "  <tbody>\n",
              "    <tr>\n",
              "      <th>0</th>\n",
              "      <td>0</td>\n",
              "      <td>Politics</td>\n",
              "      <td>polite request indians</td>\n",
              "      <td>403</td>\n",
              "      <td>g2ct57</td>\n",
              "      <td>https://www.reddit.com/r/india/comments/g2ct57...</td>\n",
              "      <td>82</td>\n",
              "      <td>dont know situation countries seen lot organis...</td>\n",
              "      <td>1.587063e+09</td>\n",
              "      <td>aaluinsonaout</td>\n",
              "      <td>society thrives abuse power let many idiots ab...</td>\n",
              "      <td>polite request indianssociety thrives abuse po...</td>\n",
              "    </tr>\n",
              "    <tr>\n",
              "      <th>1</th>\n",
              "      <td>1</td>\n",
              "      <td>Politics</td>\n",
              "      <td>pitting community political party fucking stupid</td>\n",
              "      <td>198</td>\n",
              "      <td>futac9</td>\n",
              "      <td>https://www.reddit.com/r/india/comments/futac9...</td>\n",
              "      <td>73</td>\n",
              "      <td>first let start saying stupid whatever muslims...</td>\n",
              "      <td>1.586034e+09</td>\n",
              "      <td>chillinvillain122</td>\n",
              "      <td>country far moment theres turning back best ho...</td>\n",
              "      <td>pitting community political party fucking stup...</td>\n",
              "    </tr>\n",
              "    <tr>\n",
              "      <th>2</th>\n",
              "      <td>2</td>\n",
              "      <td>Politics</td>\n",
              "      <td>hit backlash posts lack medical gear doctors g...</td>\n",
              "      <td>402</td>\n",
              "      <td>fpaj1w</td>\n",
              "      <td>https://theprint.in/india/hit-by-backlash-over...</td>\n",
              "      <td>67</td>\n",
              "      <td>nan</td>\n",
              "      <td>1.585254e+09</td>\n",
              "      <td>hipporama</td>\n",
              "      <td>well people really deserve die country fucking...</td>\n",
              "      <td>hit backlash posts lack medical gear doctors g...</td>\n",
              "    </tr>\n",
              "    <tr>\n",
              "      <th>3</th>\n",
              "      <td>3</td>\n",
              "      <td>Politics</td>\n",
              "      <td>new political party gave full front page ad po...</td>\n",
              "      <td>730</td>\n",
              "      <td>ff8sth</td>\n",
              "      <td>https://i.redd.it/yjo9wpy38el41.jpg</td>\n",
              "      <td>146</td>\n",
              "      <td>nan</td>\n",
              "      <td>1.583678e+09</td>\n",
              "      <td>aaluinsonaout</td>\n",
              "      <td>looks like iipm ad 1 get funds full page ads 2...</td>\n",
              "      <td>new political party gave full front page ad po...</td>\n",
              "    </tr>\n",
              "    <tr>\n",
              "      <th>4</th>\n",
              "      <td>4</td>\n",
              "      <td>Politics</td>\n",
              "      <td>politics time corona wb cm questions centres c...</td>\n",
              "      <td>82</td>\n",
              "      <td>fxs1vy</td>\n",
              "      <td>https://www.timesnownews.com/india/article/pol...</td>\n",
              "      <td>22</td>\n",
              "      <td>nan</td>\n",
              "      <td>1.586466e+09</td>\n",
              "      <td>ConcernedCitizen034</td>\n",
              "      <td>oh ffs yellow orange green red used emergency ...</td>\n",
              "      <td>politics time corona wb cm questions centres c...</td>\n",
              "    </tr>\n",
              "  </tbody>\n",
              "</table>\n",
              "</div>"
            ],
            "text/plain": [
              "   Unnamed: 0  ...                                    feature_combine\n",
              "0           0  ...  polite request indianssociety thrives abuse po...\n",
              "1           1  ...  pitting community political party fucking stup...\n",
              "2           2  ...  hit backlash posts lack medical gear doctors g...\n",
              "3           3  ...  new political party gave full front page ad po...\n",
              "4           4  ...  politics time corona wb cm questions centres c...\n",
              "\n",
              "[5 rows x 12 columns]"
            ]
          },
          "metadata": {
            "tags": []
          },
          "execution_count": 10
        }
      ]
    },
    {
      "cell_type": "code",
      "metadata": {
        "id": "OzI7PDnUiJG9",
        "colab_type": "code",
        "colab": {}
      },
      "source": [
        "#Downloading the Cleaned and Processed Data into a CSV File\n",
        "\n",
        "data.to_csv('Reddit_India_Updated5.csv',index = False)\n",
        "from google.colab import files\n",
        "files.download('Reddit_India_Updated5.csv')"
      ],
      "execution_count": 0,
      "outputs": []
    },
    {
      "cell_type": "code",
      "metadata": {
        "id": "MjF8SF0_iodi",
        "colab_type": "code",
        "outputId": "d46db663-5ce9-40d8-80a2-a66438b3332e",
        "colab": {
          "base_uri": "https://localhost:8080/",
          "height": 235
        }
      },
      "source": [
        "#Counting the frequency of each time of flair\n",
        "\n",
        "data['flair'].value_counts()"
      ],
      "execution_count": 0,
      "outputs": [
        {
          "output_type": "execute_result",
          "data": {
            "text/plain": [
              "Politics              249\n",
              "Food                  244\n",
              "Scheduled             234\n",
              "Business/Finance      233\n",
              "AskIndia              232\n",
              "Sports                232\n",
              "Science/Technology    221\n",
              "Policy/Economy        220\n",
              "Non-Political         217\n",
              "AMA                   213\n",
              "Reddiquette           124\n",
              "Name: flair, dtype: int64"
            ]
          },
          "metadata": {
            "tags": []
          },
          "execution_count": 14
        }
      ]
    },
    {
      "cell_type": "code",
      "metadata": {
        "id": "_isgZdtYi4_A",
        "colab_type": "code",
        "outputId": "b7c7e21e-feb1-4113-e637-3d48d8cec74b",
        "colab": {
          "base_uri": "https://localhost:8080/",
          "height": 371
        }
      },
      "source": [
        "#Bar-Graph to Visualise Frequency of Flairs in DataSet\n",
        "\n",
        "data['flair'].value_counts().plot(kind = 'bar')"
      ],
      "execution_count": 0,
      "outputs": [
        {
          "output_type": "execute_result",
          "data": {
            "text/plain": [
              "<matplotlib.axes._subplots.AxesSubplot at 0x7f8f92bdeda0>"
            ]
          },
          "metadata": {
            "tags": []
          },
          "execution_count": 15
        },
        {
          "output_type": "display_data",
          "data": {
            "image/png": "[encoded data removed]",
            "text/plain": [
              "<Figure size 432x288 with 1 Axes>"
            ]
          },
          "metadata": {
            "tags": [],
            "needs_background": "light"
          }
        }
      ]
    },
    {
      "cell_type": "code",
      "metadata": {
        "id": "sUEPAOtYtc48",
        "colab_type": "code",
        "outputId": "6f84553c-80ee-4ef3-fa50-1c624a452a65",
        "colab": {
          "base_uri": "https://localhost:8080/",
          "height": 256
        }
      },
      "source": [
        "#Pie-Chart to Visualise Frequency of Flairs in the DataSet\n",
        "\n",
        "data['flair'].value_counts().groupby(data['flair'].value_counts()).sum().plot(kind='pie')\n",
        "plt.axis('equal')\n",
        "plt.show()\n"
      ],
      "execution_count": 0,
      "outputs": [
        {
          "output_type": "display_data",
          "data": {
            "image/png": "[encoded data removed]",
            "text/plain": [
              "<Figure size 432x288 with 1 Axes>"
            ]
          },
          "metadata": {
            "tags": []
          }
        }
      ]
    },
    {
      "cell_type": "code",
      "metadata": {
        "id": "g3qWmHjmG1Ja",
        "colab_type": "code",
        "colab": {}
      },
      "source": [
        "''' As we can see the dataset is fairly balanced. However, Reddiquette has very less data points. Hence\n",
        "OverSampling/Undersampling approaches can be experimented with'''"
      ],
      "execution_count": 0,
      "outputs": []
    },
    {
      "cell_type": "code",
      "metadata": {
        "id": "4J5Mo_26Dk19",
        "colab_type": "code",
        "colab": {}
      },
      "source": [
        "# Seeing Most Frequent Word Appearing in Each Flair Class To Understand Similar Relations"
      ],
      "execution_count": 0,
      "outputs": []
    },
    {
      "cell_type": "code",
      "metadata": {
        "id": "jb-4IAqBVcY2",
        "colab_type": "code",
        "colab": {}
      },
      "source": [
        "# Creating a list of words under each Flair to understand Mis-Classifications and Potential Errors\n",
        "classes = data['flair']\n",
        "unique = np.unique(classes)\n",
        "li = []\n",
        "for j, w in enumerate(unique):\n",
        "  li.append(str(w))\n"
      ],
      "execution_count": 0,
      "outputs": []
    },
    {
      "cell_type": "code",
      "metadata": {
        "id": "v_REEdk3V2Fi",
        "colab_type": "code",
        "colab": {}
      },
      "source": [
        "from collections import Counter"
      ],
      "execution_count": 0,
      "outputs": []
    },
    {
      "cell_type": "code",
      "metadata": {
        "id": "CBrx1metYe1B",
        "colab_type": "code",
        "colab": {}
      },
      "source": [
        "df = data"
      ],
      "execution_count": 0,
      "outputs": []
    },
    {
      "cell_type": "code",
      "metadata": {
        "id": "ZRX87oFYYhuX",
        "colab_type": "code",
        "outputId": "42e27ba0-e661-4212-bcd7-9af6782eeb6d",
        "colab": {
          "base_uri": "https://localhost:8080/",
          "height": 35
        }
      },
      "source": [
        "print(type(df))"
      ],
      "execution_count": 0,
      "outputs": [
        {
          "output_type": "stream",
          "text": [
            "<class 'pandas.core.frame.DataFrame'>\n"
          ],
          "name": "stdout"
        }
      ]
    },
    {
      "cell_type": "code",
      "metadata": {
        "id": "LZH_WyXnV6hZ",
        "colab_type": "code",
        "colab": {}
      },
      "source": [
        "#Creating A dictionary to Store Flair as Key and Words under that flair as Value\n",
        "dicts = {}\n",
        "for i, u in enumerate(unique):\n",
        "  dicts[u] = \" \"\n",
        "  for index, row in df.iterrows():\n",
        "    if(row['flair']==str(u)):\n",
        "      dicts[u] = dicts[u] + row['feature_combine']"
      ],
      "execution_count": 0,
      "outputs": []
    },
    {
      "cell_type": "code",
      "metadata": {
        "id": "VrpVAkz7aR_w",
        "colab_type": "code",
        "colab": {}
      },
      "source": [
        "# Creating a Dictionary to Store Flair as Key and Word Count as Value\n",
        "Flair_Words = {}\n",
        "for flair in dicts:\n",
        "  l = []\n",
        "  l = dicts[flair].split()\n",
        "  counts = Counter(l)\n",
        "  Flair_Words[flair] = counts"
      ],
      "execution_count": 0,
      "outputs": []
    },
    {
      "cell_type": "code",
      "metadata": {
        "id": "hMafonYSzwpI",
        "colab_type": "code",
        "colab": {}
      },
      "source": [
        "# Clusters of data Points under each flair to Understand Mis-Classifications"
      ],
      "execution_count": 0,
      "outputs": []
    },
    {
      "cell_type": "code",
      "metadata": {
        "id": "ujWtUys5DnIi",
        "colab_type": "code",
        "outputId": "b1e368fd-c182-4344-e64c-daea39f7aa56",
        "colab": {
          "base_uri": "https://localhost:8080/",
          "height": 74
        }
      },
      "source": [
        "# K-Means Algorithm on our Data to Visualise Similarities between different groups of flairs.\n",
        "\n",
        "%matplotlib inline\n",
        "import matplotlib.pyplot as plt\n",
        "import seaborn as sns; sns.set()  # for plot styling\n",
        "import numpy as np"
      ],
      "execution_count": 0,
      "outputs": [
        {
          "output_type": "stream",
          "text": [
            "/usr/local/lib/python3.6/dist-packages/statsmodels/tools/_testing.py:19: FutureWarning: pandas.util.testing is deprecated. Use the functions in the public API at pandas.testing instead.\n",
            "  import pandas.util.testing as tm\n"
          ],
          "name": "stderr"
        }
      ]
    },
    {
      "cell_type": "code",
      "metadata": {
        "id": "T6oeT4MqECwe",
        "colab_type": "code",
        "colab": {}
      },
      "source": [
        "X = data['feature_combine']"
      ],
      "execution_count": 0,
      "outputs": []
    },
    {
      "cell_type": "code",
      "metadata": {
        "id": "c5Zj2sJgJiwY",
        "colab_type": "code",
        "colab": {}
      },
      "source": [
        "from sklearn.feature_extraction.text import TfidfVectorizer\n",
        "vectorizer = TfidfVectorizer()\n",
        "Xd = vectorizer.fit_transform(X)"
      ],
      "execution_count": 0,
      "outputs": []
    },
    {
      "cell_type": "code",
      "metadata": {
        "id": "YOL3tv4jNu9b",
        "colab_type": "code",
        "outputId": "d9c07349-4629-4e61-f806-f567858777e7",
        "colab": {
          "base_uri": "https://localhost:8080/",
          "height": 325
        }
      },
      "source": [
        "from sklearn.datasets.samples_generator import make_blobs\n",
        "Xd, y_true = make_blobs(n_samples=2419, centers=11,\n",
        "                       cluster_std=0.60, random_state=2)\n",
        "plt.scatter(Xd[:, 0], Xd[:, 1], s=50);"
      ],
      "execution_count": 0,
      "outputs": [
        {
          "output_type": "stream",
          "text": [
            "/usr/local/lib/python3.6/dist-packages/sklearn/utils/deprecation.py:144: FutureWarning: The sklearn.datasets.samples_generator module is  deprecated in version 0.22 and will be removed in version 0.24. The corresponding classes / functions should instead be imported from sklearn.datasets. Anything that cannot be imported from sklearn.datasets is now part of the private API.\n",
            "  warnings.warn(message, FutureWarning)\n"
          ],
          "name": "stderr"
        },
        {
          "output_type": "display_data",
          "data": {
            "image/png": "[encoded data removed]",
            "text/plain": [
              "<Figure size 432x288 with 1 Axes>"
            ]
          },
          "metadata": {
            "tags": []
          }
        }
      ]
    },
    {
      "cell_type": "code",
      "metadata": {
        "id": "QXP77sJXOApx",
        "colab_type": "code",
        "colab": {}
      },
      "source": [
        "#Using the K-Means Algorithm on our Dataset\n",
        "\n",
        "from sklearn.cluster import KMeans\n",
        "kmeans = KMeans(n_clusters=11)\n",
        "kmeans.fit(Xd)\n",
        "y_kmeans = kmeans.predict(Xd)"
      ],
      "execution_count": 0,
      "outputs": []
    },
    {
      "cell_type": "code",
      "metadata": {
        "id": "CnlBEzKoOEcr",
        "colab_type": "code",
        "outputId": "471348e9-9cb6-4f11-9832-10db5523d9fd",
        "colab": {
          "base_uri": "https://localhost:8080/",
          "height": 286
        }
      },
      "source": [
        "plt.scatter(Xd[:, 0], Xd[:, 1], c=y_kmeans, s=50, cmap='viridis')\n",
        "\n",
        "centers = kmeans.cluster_centers_\n",
        "plt.scatter(centers[:, 0], centers[:, 1], c='black', s=50, alpha=0.5)"
      ],
      "execution_count": 0,
      "outputs": [
        {
          "output_type": "execute_result",
          "data": {
            "text/plain": [
              "<matplotlib.collections.PathCollection at 0x7f8f90497128>"
            ]
          },
          "metadata": {
            "tags": []
          },
          "execution_count": 28
        },
        {
          "output_type": "display_data",
          "data": {
            "image/png": "[encoded data removed]",
            "text/plain": [
              "<Figure size 432x288 with 1 Axes>"
            ]
          },
          "metadata": {
            "tags": []
          }
        }
      ]
    },
    {
      "cell_type": "code",
      "metadata": {
        "id": "6QudHXMM0PJh",
        "colab_type": "code",
        "outputId": "7902c4a4-94c9-4fde-b573-cd332c9c2ea3",
        "colab": {
          "base_uri": "https://localhost:8080/",
          "height": 217
        }
      },
      "source": [
        "for e,u in enumerate(unique):\n",
        "  print(u)"
      ],
      "execution_count": 0,
      "outputs": [
        {
          "output_type": "stream",
          "text": [
            "AMA\n",
            "AskIndia\n",
            "Business/Finance\n",
            "Food\n",
            "Non-Political\n",
            "Policy/Economy\n",
            "Politics\n",
            "Reddiquette\n",
            "Scheduled\n",
            "Science/Technology\n",
            "Sports\n"
          ],
          "name": "stdout"
        }
      ]
    },
    {
      "cell_type": "code",
      "metadata": {
        "id": "l4gXnFqvwlOc",
        "colab_type": "code",
        "colab": {}
      },
      "source": [
        "''' Now we look at word counts in groups of flairs and find common relations which might lead to \n",
        "mis-classification due to high similarity of content."
      ],
      "execution_count": 0,
      "outputs": []
    },
    {
      "cell_type": "code",
      "metadata": {
        "id": "MFHv1-mkw0Tp",
        "colab_type": "code",
        "colab": {}
      },
      "source": [
        "# Group 1 : Politics, Policy/Economy, Business/ Finance\n",
        "'''Intuition behind this idea is Most policy/economic decisions are associated with Govt. which has\n",
        "good deal of politics associated with it. Also Digital India has led to Politics and\n",
        "Business Sector tied together. Hence, most business/ policy related articles have Political\n",
        "Relations'''"
      ],
      "execution_count": 0,
      "outputs": []
    },
    {
      "cell_type": "code",
      "metadata": {
        "id": "Pk0haqKVEofb",
        "colab_type": "code",
        "outputId": "5c3a0b03-9628-4788-d992-52360f1ac815",
        "colab": {
          "base_uri": "https://localhost:8080/",
          "height": 55
        }
      },
      "source": [
        "#Most Common Words of Business/Finance\n",
        "print(Flair_Words['Business/Finance'].most_common(20))"
      ],
      "execution_count": 0,
      "outputs": [
        {
          "output_type": "stream",
          "text": [
            "[('http', 1048), ('https', 802), ('business', 629), ('like', 623), ('one', 563), ('government', 529), ('get', 520), ('news', 513), ('people', 512), ('also', 496), ('indian', 483), ('would', 478), ('money', 471), ('week', 460), ('bank', 440), ('good', 424), ('finance', 404), ('dont', 402), ('tax', 391), ('even', 390)]\n"
          ],
          "name": "stdout"
        }
      ]
    },
    {
      "cell_type": "code",
      "metadata": {
        "id": "oeg92dKiEu1R",
        "colab_type": "code",
        "outputId": "1a604433-bd8e-4623-a911-80334fd5bbc1",
        "colab": {
          "base_uri": "https://localhost:8080/",
          "height": 55
        }
      },
      "source": [
        "#Most Common Words of Policy/Economy\n",
        "print(Flair_Words['Policy/Economy'].most_common(20))"
      ],
      "execution_count": 0,
      "outputs": [
        {
          "output_type": "stream",
          "text": [
            "[('people', 790), ('economy', 676), ('like', 645), ('government', 627), ('https', 606), ('would', 595), ('indian', 518), ('one', 495), ('also', 469), ('even', 452), ('us', 424), ('http', 398), ('dont', 397), ('years', 383), ('tax', 373), ('modi', 367), ('economic', 358), ('policy', 349), ('get', 346), ('growth', 346)]\n"
          ],
          "name": "stdout"
        }
      ]
    },
    {
      "cell_type": "code",
      "metadata": {
        "id": "ZQyi9Fi7EbNA",
        "colab_type": "code",
        "outputId": "d1a46c3e-cfb3-4dd8-ad08-ada2d3da5c6f",
        "colab": {
          "base_uri": "https://localhost:8080/",
          "height": 55
        }
      },
      "source": [
        "#Most Common Words of Politics\n",
        "print(Flair_Words['Politics'].most_common(20))"
      ],
      "execution_count": 0,
      "outputs": [
        {
          "output_type": "stream",
          "text": [
            "[('people', 814), ('like', 571), ('https', 493), ('bjp', 481), ('dont', 449), ('one', 382), ('would', 332), ('even', 330), ('status', 322), ('twittercom', 300), ('delhi', 299), ('political', 298), ('government', 272), ('time', 265), ('get', 263), ('think', 260), ('politics', 254), ('country', 249), ('modi', 244), ('also', 243)]\n"
          ],
          "name": "stdout"
        }
      ]
    },
    {
      "cell_type": "code",
      "metadata": {
        "id": "SR7bSxXhyTaP",
        "colab_type": "code",
        "colab": {}
      },
      "source": [
        "'''The above analysis Suggests that Politics Flair has Words from Business and Policy under it. Hence \n",
        "any article with Business/Policy Flair has high chances of being Classified Political.'''"
      ],
      "execution_count": 0,
      "outputs": []
    },
    {
      "cell_type": "code",
      "metadata": {
        "id": "toYkqc6qzYl6",
        "colab_type": "code",
        "colab": {}
      },
      "source": [
        "#Code to Visualize Data Points Under Political, Policy and Business Flairs\n",
        "#Clearly, there is heavy overlap among the flairs\n",
        "classes = data['flair']\n",
        "unique = np.unique(classes)\n",
        "colors = [plt.cm.jet(i/float(len(unique)-1)) for i in range(len(unique))]\n",
        "u = [unique[2], unique[5],unique[6]]\n",
        "ll = [3,6,8]\n",
        "\n",
        "for i,q in enumerate(u):\n",
        "  for j, e in enumerate(classes):\n",
        "    if(str(e)==str(q)):\n",
        "      plt.scatter(Xd[j,0], Xd[j,1], c=colors[ll[i]])\n",
        "  plt.scatter(Xd[i,0],Xd[i,1],label = str(q))\n",
        "    \n",
        "\n",
        "plt.legend()\n",
        "plt.show()"
      ],
      "execution_count": 0,
      "outputs": []
    },
    {
      "cell_type": "code",
      "metadata": {
        "id": "G6Rybi645p7L",
        "colab_type": "code",
        "colab": {}
      },
      "source": [
        "# Group 2:- Non-Political, AskIndia, Food\n",
        "''' Intuition :- Non-Political posts are mostly about people, facts and lifestyles. Hence, Askindia,\n",
        "Food related Articles and Non-Political often get mixed together. This intuition is backed by Frequent \n",
        "Word and Cluster Analysis'''"
      ],
      "execution_count": 0,
      "outputs": []
    },
    {
      "cell_type": "code",
      "metadata": {
        "id": "5MT94ZvzEifI",
        "colab_type": "code",
        "outputId": "f2351dcf-8011-4e86-9412-40bdf2d87364",
        "colab": {
          "base_uri": "https://localhost:8080/",
          "height": 55
        }
      },
      "source": [
        "#Most Common Words of Non-Political\n",
        "print(Flair_Words['Non-Political'].most_common(20))"
      ],
      "execution_count": 0,
      "outputs": [
        {
          "output_type": "stream",
          "text": [
            "[('like', 188), ('indian', 174), ('people', 171), ('dont', 169), ('one', 162), ('get', 146), ('would', 142), ('also', 132), ('time', 112), ('know', 107), ('r', 104), ('think', 101), ('political', 95), ('good', 87), ('im', 85), ('even', 84), ('much', 82), ('first', 81), ('way', 81), ('http', 77)]\n"
          ],
          "name": "stdout"
        }
      ]
    },
    {
      "cell_type": "code",
      "metadata": {
        "id": "p71h95M5E6Bw",
        "colab_type": "code",
        "outputId": "4b244b74-59b9-4e2f-9d23-1ca4d45fbb0b",
        "colab": {
          "base_uri": "https://localhost:8080/",
          "height": 55
        }
      },
      "source": [
        "#Most Common Words of AskIndia\n",
        "print(Flair_Words['AskIndia'].most_common(20))"
      ],
      "execution_count": 0,
      "outputs": [
        {
          "output_type": "stream",
          "text": [
            "[('https', 2138), ('people', 2102), ('like', 1218), ('cases', 1191), ('religion', 1178), ('status', 1162), ('dont', 1162), ('twittercom', 961), ('one', 930), ('get', 864), ('know', 761), ('lockdown', 718), ('would', 716), ('also', 676), ('positive', 671), ('even', 670), ('time', 664), ('coronavirus', 642), ('good', 630), ('us', 615)]\n"
          ],
          "name": "stdout"
        }
      ]
    },
    {
      "cell_type": "code",
      "metadata": {
        "id": "lqWuy1B_GW0v",
        "colab_type": "code",
        "outputId": "62769232-7612-41c2-963c-abc24e214a71",
        "colab": {
          "base_uri": "https://localhost:8080/",
          "height": 55
        }
      },
      "source": [
        "#Most Common Words of Food\n",
        "print(Flair_Words['Food'].most_common(20))"
      ],
      "execution_count": 0,
      "outputs": [
        {
          "output_type": "stream",
          "text": [
            "[('food', 716), ('people', 661), ('like', 387), ('dont', 361), ('get', 263), ('lockdown', 242), ('would', 229), ('one', 227), ('even', 227), ('https', 216), ('also', 208), ('time', 202), ('government', 193), ('good', 181), ('go', 176), ('know', 169), ('home', 169), ('need', 162), ('going', 159), ('eat', 148)]\n"
          ],
          "name": "stdout"
        }
      ]
    },
    {
      "cell_type": "code",
      "metadata": {
        "id": "V5-A0aq_9QGK",
        "colab_type": "code",
        "colab": {}
      },
      "source": [
        "# Cluster Visualization\n",
        "classes = data['flair']\n",
        "unique = np.unique(classes)\n",
        "colors = [plt.cm.jet(i/float(len(unique)-1)) for i in range(len(unique))]\n",
        "u = [unique[1], unique[3],unique[4]]\n",
        "ll = [2,4,5]\n",
        "\n",
        "for i,q in enumerate(u):\n",
        "  for j, e in enumerate(classes):\n",
        "    if(str(e)==str(q)):\n",
        "      plt.scatter(Xd[j,0], Xd[j,1], c=colors[ll[i]])\n",
        "  plt.scatter(Xd[i,0],Xd[i,1],label = str(q))\n",
        "    \n",
        "\n",
        "plt.legend()\n",
        "plt.show()"
      ],
      "execution_count": 0,
      "outputs": []
    },
    {
      "cell_type": "code",
      "metadata": {
        "id": "hcRUatO2_K8u",
        "colab_type": "code",
        "colab": {}
      },
      "source": [
        "''' As clearly seen above there's heavy similarity in Content of Flairs in Second Group'''"
      ],
      "execution_count": 0,
      "outputs": []
    },
    {
      "cell_type": "code",
      "metadata": {
        "id": "14D1aTWR_fbD",
        "colab_type": "code",
        "colab": {}
      },
      "source": [
        "# Words in Reddiquette, Sports and Science/Technology are scattered and have no definite Grouping.\n",
        "''' It can be verified by seeing Most Frequent Words in the three flairs as done below '''"
      ],
      "execution_count": 0,
      "outputs": []
    },
    {
      "cell_type": "code",
      "metadata": {
        "id": "Yz-wMf7uEFyF",
        "colab_type": "code",
        "outputId": "914c5b74-8737-493b-8daf-ac8bc098ef77",
        "colab": {
          "base_uri": "https://localhost:8080/",
          "height": 55
        }
      },
      "source": [
        "#Most Common Words of Rediqqutte\n",
        "print(Flair_Words['Reddiquette'].most_common(20))"
      ],
      "execution_count": 0,
      "outputs": [
        {
          "output_type": "stream",
          "text": [
            "[('like', 505), ('people', 479), ('dont', 467), ('bjp', 429), ('r', 379), ('one', 346), ('congress', 336), ('get', 333), ('time', 332), ('would', 328), ('https', 289), ('im', 268), ('even', 263), ('also', 258), ('want', 250), ('good', 247), ('see', 245), ('comments', 241), ('know', 238), ('someone', 223)]\n"
          ],
          "name": "stdout"
        }
      ]
    },
    {
      "cell_type": "code",
      "metadata": {
        "id": "R24kuqi1FiDt",
        "colab_type": "code",
        "outputId": "73e54507-4c46-4d6a-8b41-46df4bc010ed",
        "colab": {
          "base_uri": "https://localhost:8080/",
          "height": 55
        }
      },
      "source": [
        "#Most Common Words of Science/Technology\n",
        "#It can be seen that Words under this flair are also present in most of the other flairs\n",
        "print(Flair_Words['Science/Technology'].most_common(20))"
      ],
      "execution_count": 0,
      "outputs": [
        {
          "output_type": "stream",
          "text": [
            "[('religion', 1219), ('people', 1178), ('like', 876), ('dont', 724), ('one', 699), ('science', 677), ('good', 589), ('https', 538), ('get', 504), ('know', 496), ('also', 495), ('time', 493), ('would', 467), ('technology', 462), ('us', 450), ('even', 423), ('think', 420), ('believe', 411), ('want', 359), ('world', 351)]\n"
          ],
          "name": "stdout"
        }
      ]
    },
    {
      "cell_type": "code",
      "metadata": {
        "id": "SybmLEUAGEZz",
        "colab_type": "code",
        "outputId": "23ff6e22-46f3-454d-90c1-680b612fe830",
        "colab": {
          "base_uri": "https://localhost:8080/",
          "height": 55
        }
      },
      "source": [
        "#Most Common Words of Sports\n",
        "print(Flair_Words['Sports'].most_common(20))"
      ],
      "execution_count": 0,
      "outputs": [
        {
          "output_type": "stream",
          "text": [
            "[('like', 545), ('people', 492), ('sports', 483), ('dont', 410), ('one', 346), ('indian', 339), ('get', 334), ('also', 313), ('good', 301), ('even', 287), ('would', 266), ('im', 223), ('think', 212), ('time', 208), ('mens', 198), ('https', 186), ('know', 185), ('team', 184), ('cricket', 183), ('well', 180)]\n"
          ],
          "name": "stdout"
        }
      ]
    },
    {
      "cell_type": "code",
      "metadata": {
        "id": "dR19Nckm_7It",
        "colab_type": "code",
        "colab": {}
      },
      "source": [
        "# Posts under AMA are distinct are there is chance of highly accurate prediction of posts under this Flair\n",
        "# However, Content of Scheduled Flair is Mostly Subset of AMA as evident from word count analysis"
      ],
      "execution_count": 0,
      "outputs": []
    },
    {
      "cell_type": "code",
      "metadata": {
        "id": "SZ-GwhCvaZE-",
        "colab_type": "code",
        "outputId": "65ad52f4-3db8-459a-d310-0e93438c7355",
        "colab": {
          "base_uri": "https://localhost:8080/",
          "height": 55
        }
      },
      "source": [
        "#Most Common Words of AMA\n",
        "print(Flair_Words['AMA'].most_common(20))"
      ],
      "execution_count": 0,
      "outputs": [
        {
          "output_type": "stream",
          "text": [
            "[('like', 1379), ('would', 1052), ('people', 1052), ('think', 941), ('get', 918), ('one', 915), ('ama', 740), ('dont', 689), ('time', 657), ('also', 637), ('indian', 625), ('work', 625), ('know', 621), ('https', 610), ('much', 572), ('good', 554), ('questions', 548), ('im', 525), ('deleted', 487), ('many', 479)]\n"
          ],
          "name": "stdout"
        }
      ]
    },
    {
      "cell_type": "code",
      "metadata": {
        "id": "xkpaIRI6GLKo",
        "colab_type": "code",
        "outputId": "17e3f6c8-c249-4424-a172-6543a0f48029",
        "colab": {
          "base_uri": "https://localhost:8080/",
          "height": 55
        }
      },
      "source": [
        "#Most Common Words of Scheduled\n",
        "print(Flair_Words['Scheduled'].most_common(20))"
      ],
      "execution_count": 0,
      "outputs": [
        {
          "output_type": "stream",
          "text": [
            "[('people', 437), ('like', 402), ('https', 369), ('dont', 336), ('get', 335), ('one', 326), ('would', 305), ('also', 282), ('caste', 276), ('time', 274), ('even', 260), ('work', 209), ('good', 209), ('know', 200), ('scheduled', 190), ('im', 187), ('want', 185), ('make', 179), ('much', 176), ('2', 174)]\n"
          ],
          "name": "stdout"
        }
      ]
    },
    {
      "cell_type": "code",
      "metadata": {
        "id": "pnkp0t0NDjEy",
        "colab_type": "code",
        "colab": {}
      },
      "source": [
        "#Conclusions from the Analysis Done Above:-\n",
        "\n",
        "# 1. Posts under Business/Finance or Policy/Economy have strong political Content which creates Similarity\n",
        "# 2. Posts under Non-Political, AskIndia and Food have common content\n",
        "# 3. AMA has distinctive content, however Scheduled Flair's Content is its subset\n",
        "# 4. Reddiquette, Sports and Science/Technology have common words but no strong grouping\n",
        "# 5. Science/Technolgy Content is Subset of Content under most Flairs"
      ],
      "execution_count": 0,
      "outputs": []
    }
  ]
}