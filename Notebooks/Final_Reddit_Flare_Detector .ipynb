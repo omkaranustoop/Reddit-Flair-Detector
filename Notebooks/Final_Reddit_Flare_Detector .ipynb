{
  "nbformat": 4,
  "nbformat_minor": 0,
  "metadata": {
    "colab": {
      "name": " Final_Reddit_Flare_Detector.ipynb",
      "provenance": [],
      "collapsed_sections": []
    },
    "kernelspec": {
      "name": "python3",
      "display_name": "Python 3"
    }
  },
  "cells": [
    {
      "cell_type": "code",
      "metadata": {
        "id": "DIQWlfOQkS2C",
        "colab_type": "code",
        "colab": {}
      },
      "source": [
        "#Importing the Required Modules\n",
        "from sklearn.model_selection import train_test_split\n",
        "import pandas as pd\n",
        "import numpy as np\n",
        "import gensim\n",
        "import pickle\n",
        "import nltk\n",
        "nltk.download('all')\n",
        "from sklearn.pipeline import Pipeline\n",
        "from sklearn.feature_extraction.text import TfidfTransformer\n",
        "from sklearn.metrics import classification_report\n",
        "from sklearn.feature_extraction.text import CountVectorizer, TfidfVectorizer\n",
        "from sklearn.metrics import accuracy_score, confusion_matrix\n",
        "import matplotlib.pyplot as plt"
      ],
      "execution_count": 0,
      "outputs": []
    },
    {
      "cell_type": "code",
      "metadata": {
        "id": "BFP1-b6xnCSW",
        "colab_type": "code",
        "colab": {}
      },
      "source": [
        "#Loading the DATASET\n",
        "dataset = pd.read_csv('/content/Reddit_India_Updated5.csv')"
      ],
      "execution_count": 0,
      "outputs": []
    },
    {
      "cell_type": "code",
      "metadata": {
        "id": "4vON60n3whNu",
        "colab_type": "code",
        "outputId": "1224a271-4f2b-42cd-b5c4-7b1ba229ee9f",
        "colab": {
          "base_uri": "https://localhost:8080/",
          "height": 353
        }
      },
      "source": [
        "dataset.head(2)"
      ],
      "execution_count": 0,
      "outputs": [
        {
          "output_type": "execute_result",
          "data": {
            "text/html": [
              "<div>\n",
              "<style scoped>\n",
              "    .dataframe tbody tr th:only-of-type {\n",
              "        vertical-align: middle;\n",
              "    }\n",
              "\n",
              "    .dataframe tbody tr th {\n",
              "        vertical-align: top;\n",
              "    }\n",
              "\n",
              "    .dataframe thead th {\n",
              "        text-align: right;\n",
              "    }\n",
              "</style>\n",
              "<table border=\"1\" class=\"dataframe\">\n",
              "  <thead>\n",
              "    <tr style=\"text-align: right;\">\n",
              "      <th></th>\n",
              "      <th>Unnamed: 0</th>\n",
              "      <th>flair</th>\n",
              "      <th>title</th>\n",
              "      <th>score</th>\n",
              "      <th>id</th>\n",
              "      <th>url</th>\n",
              "      <th>num_comm</th>\n",
              "      <th>body</th>\n",
              "      <th>created</th>\n",
              "      <th>author</th>\n",
              "      <th>comments</th>\n",
              "      <th>feature_combine</th>\n",
              "    </tr>\n",
              "  </thead>\n",
              "  <tbody>\n",
              "    <tr>\n",
              "      <th>0</th>\n",
              "      <td>0</td>\n",
              "      <td>Politics</td>\n",
              "      <td>polite request indians</td>\n",
              "      <td>403</td>\n",
              "      <td>g2ct57</td>\n",
              "      <td>https://www.reddit.com/r/india/comments/g2ct57...</td>\n",
              "      <td>82</td>\n",
              "      <td>dont know situation countries seen lot organis...</td>\n",
              "      <td>1.587063e+09</td>\n",
              "      <td>aaluinsonaout</td>\n",
              "      <td>society thrives abuse power let many idiots ab...</td>\n",
              "      <td>polite request indianssociety thrives abuse po...</td>\n",
              "    </tr>\n",
              "    <tr>\n",
              "      <th>1</th>\n",
              "      <td>1</td>\n",
              "      <td>Politics</td>\n",
              "      <td>pitting community political party fucking stupid</td>\n",
              "      <td>198</td>\n",
              "      <td>futac9</td>\n",
              "      <td>https://www.reddit.com/r/india/comments/futac9...</td>\n",
              "      <td>73</td>\n",
              "      <td>first let start saying stupid whatever muslims...</td>\n",
              "      <td>1.586034e+09</td>\n",
              "      <td>chillinvillain122</td>\n",
              "      <td>country far moment theres turning back best ho...</td>\n",
              "      <td>pitting community political party fucking stup...</td>\n",
              "    </tr>\n",
              "  </tbody>\n",
              "</table>\n",
              "</div>"
            ],
            "text/plain": [
              "   Unnamed: 0  ...                                    feature_combine\n",
              "0           0  ...  polite request indianssociety thrives abuse po...\n",
              "1           1  ...  pitting community political party fucking stup...\n",
              "\n",
              "[2 rows x 12 columns]"
            ]
          },
          "metadata": {
            "tags": []
          },
          "execution_count": 3
        }
      ]
    },
    {
      "cell_type": "code",
      "metadata": {
        "id": "ygZ7wMN6wkTR",
        "colab_type": "code",
        "outputId": "c861130b-05c0-4a2e-83d1-443a1392602d",
        "colab": {
          "base_uri": "https://localhost:8080/",
          "height": 35
        }
      },
      "source": [
        "dataset.shape"
      ],
      "execution_count": 0,
      "outputs": [
        {
          "output_type": "execute_result",
          "data": {
            "text/plain": [
              "(2419, 12)"
            ]
          },
          "metadata": {
            "tags": []
          },
          "execution_count": 4
        }
      ]
    },
    {
      "cell_type": "code",
      "metadata": {
        "id": "eulU-M6iwo4g",
        "colab_type": "code",
        "colab": {}
      },
      "source": [
        "# Creating Target Variable and Independent Variables\n",
        "y_data = dataset['flair']  #We need to Predict These\n",
        "y_data.shape\n",
        "\n",
        "x_data1 = dataset['body']  # try to predict flair only based on body content\n",
        "x_data2 = dataset['comments'] # try to predict flair only based on comments\n",
        "x_data3 = dataset['feature_combine'] # try to predict flair based on a combination of features"
      ],
      "execution_count": 0,
      "outputs": []
    },
    {
      "cell_type": "code",
      "metadata": {
        "id": "ddfJoQRz42hq",
        "colab_type": "code",
        "colab": {}
      },
      "source": [
        "#Experimentation log:-\n",
        "#Experimented with Statistical Models before moving on to Deep-Learning Based Approach."
      ],
      "execution_count": 0,
      "outputs": []
    },
    {
      "cell_type": "code",
      "metadata": {
        "id": "IViNLy_5_A28",
        "colab_type": "code",
        "colab": {}
      },
      "source": [
        "!pip uninstall xgboost"
      ],
      "execution_count": 0,
      "outputs": []
    },
    {
      "cell_type": "code",
      "metadata": {
        "id": "zofhfisH_IXf",
        "colab_type": "code",
        "colab": {}
      },
      "source": [
        "!pip install xgboost"
      ],
      "execution_count": 0,
      "outputs": []
    },
    {
      "cell_type": "code",
      "metadata": {
        "id": "xy_R8ck1GpJI",
        "colab_type": "code",
        "colab": {
          "base_uri": "https://localhost:8080/",
          "height": 35
        },
        "outputId": "c0a8e1d9-6db6-44db-e0d8-6e4c9b444976"
      },
      "source": [
        "import xgboost as xgb\n",
        "print(xgb.__version__)"
      ],
      "execution_count": 11,
      "outputs": [
        {
          "output_type": "stream",
          "text": [
            "1.0.2\n"
          ],
          "name": "stdout"
        }
      ]
    },
    {
      "cell_type": "code",
      "metadata": {
        "id": "K6jS85U5J3fU",
        "colab_type": "code",
        "colab": {}
      },
      "source": [
        "#Splitting the dataset for Training Purposes\n",
        "#xdata3 has been used in final model because of higher accuracy observed on experimentation\n",
        "\n",
        "X_train, X_test, y_train, y_test = train_test_split(x_data3,y_data, test_size=0.25, random_state = 2)"
      ],
      "execution_count": 0,
      "outputs": []
    },
    {
      "cell_type": "code",
      "metadata": {
        "id": "u2luiVzEKG8-",
        "colab_type": "code",
        "outputId": "c3c600de-b1a1-4384-d3c5-4eb35f3d00f4",
        "colab": {
          "base_uri": "https://localhost:8080/",
          "height": 35
        }
      },
      "source": [
        "X_train.shape"
      ],
      "execution_count": 0,
      "outputs": [
        {
          "output_type": "execute_result",
          "data": {
            "text/plain": [
              "(1814,)"
            ]
          },
          "metadata": {
            "tags": []
          },
          "execution_count": 9
        }
      ]
    },
    {
      "cell_type": "code",
      "metadata": {
        "id": "SEKipvRdKJT7",
        "colab_type": "code",
        "outputId": "89a25af2-ba81-46c4-8338-27fa42562aba",
        "colab": {
          "base_uri": "https://localhost:8080/",
          "height": 35
        }
      },
      "source": [
        "X_test.shape"
      ],
      "execution_count": 0,
      "outputs": [
        {
          "output_type": "execute_result",
          "data": {
            "text/plain": [
              "(605,)"
            ]
          },
          "metadata": {
            "tags": []
          },
          "execution_count": 10
        }
      ]
    },
    {
      "cell_type": "code",
      "metadata": {
        "id": "qBq4TYVn5eiM",
        "colab_type": "code",
        "outputId": "888e863a-60a2-45b6-af35-2902f6e7ca5d",
        "colab": {
          "base_uri": "https://localhost:8080/",
          "height": 235
        }
      },
      "source": [
        "y_train.value_counts()"
      ],
      "execution_count": 0,
      "outputs": [
        {
          "output_type": "execute_result",
          "data": {
            "text/plain": [
              "Politics              186\n",
              "Sports                182\n",
              "Scheduled             177\n",
              "AskIndia              177\n",
              "Food                  175\n",
              "Policy/Economy        169\n",
              "Science/Technology    167\n",
              "Non-Political         166\n",
              "Business/Finance      166\n",
              "AMA                   157\n",
              "Reddiquette            92\n",
              "Name: flair, dtype: int64"
            ]
          },
          "metadata": {
            "tags": []
          },
          "execution_count": 10
        }
      ]
    },
    {
      "cell_type": "code",
      "metadata": {
        "id": "Z1yGt2xs1k4m",
        "colab_type": "code",
        "colab": {}
      },
      "source": [
        "#Pipeline to use Oversampling Algorithms to balance class sizes\n",
        "from imblearn.pipeline import make_pipeline\n",
        "from imblearn.over_sampling import ADASYN, SMOTE, RandomOverSampler"
      ],
      "execution_count": 0,
      "outputs": []
    },
    {
      "cell_type": "code",
      "metadata": {
        "id": "2w69ORXe1q47",
        "colab_type": "code",
        "colab": {}
      },
      "source": [
        "#Model 1\n",
        "#Training using SMOTE OverSampling and Random Forest Classifier\n",
        "\n",
        "from sklearn.ensemble import RandomForestClassifier\n",
        "from sklearn.feature_extraction.text import TfidfVectorizer\n",
        "\n",
        "tvec = TfidfVectorizer(stop_words=None, max_features=100000, ngram_range=(1, 3))\n",
        "SMOTE_pipeline = make_pipeline(tvec, SMOTE(random_state=777), RandomForestClassifier(n_estimators=2000, n_jobs=-1))"
      ],
      "execution_count": 0,
      "outputs": []
    },
    {
      "cell_type": "code",
      "metadata": {
        "id": "SrqGjED_72EC",
        "colab_type": "code",
        "colab": {}
      },
      "source": [
        "SMOTE_pipeline.fit(X_train,y_train)"
      ],
      "execution_count": 0,
      "outputs": []
    },
    {
      "cell_type": "code",
      "metadata": {
        "id": "-PDA7GBZ9XkV",
        "colab_type": "code",
        "outputId": "521d014b-f57a-44d2-e5ff-dac7b4e633d1",
        "colab": {
          "base_uri": "https://localhost:8080/",
          "height": 363
        }
      },
      "source": [
        "#Random Forest with SMOTE OverSampling gives 72.56 % Accuracy\n",
        "y_pred = SMOTE_pipeline.predict(X_test)\n",
        "\n",
        "print('accuracy of the model is %s' % accuracy_score(y_pred, y_test))\n",
        "print(classification_report(y_test, y_pred))"
      ],
      "execution_count": 0,
      "outputs": [
        {
          "output_type": "stream",
          "text": [
            "accuracy of the model is 0.7256198347107438\n",
            "                    precision    recall  f1-score   support\n",
            "\n",
            "               AMA       0.78      0.84      0.81        56\n",
            "          AskIndia       0.51      0.69      0.59        55\n",
            "  Business/Finance       0.82      0.63      0.71        67\n",
            "              Food       0.86      0.87      0.86        69\n",
            "     Non-Political       0.58      0.82      0.68        51\n",
            "    Policy/Economy       0.58      0.61      0.60        51\n",
            "          Politics       0.67      0.71      0.69        63\n",
            "       Reddiquette       0.81      0.66      0.72        32\n",
            "         Scheduled       0.97      0.53      0.68        57\n",
            "Science/Technology       0.77      0.89      0.83        54\n",
            "            Sports       0.92      0.70      0.80        50\n",
            "\n",
            "          accuracy                           0.73       605\n",
            "         macro avg       0.75      0.72      0.72       605\n",
            "      weighted avg       0.76      0.73      0.73       605\n",
            "\n"
          ],
          "name": "stdout"
        }
      ]
    },
    {
      "cell_type": "code",
      "metadata": {
        "id": "itRpRqHCRYTA",
        "colab_type": "code",
        "colab": {}
      },
      "source": [
        "#Model 2\n",
        "#Extreme Gradient Boosted Trees with SMOTE Oversampling\n",
        "\n",
        "import xgboost as xgb\n",
        "SMOTE_pipeline2 = make_pipeline(tvec, SMOTE(random_state=777), xgb.XGBRFClassifier(objective ='reg:linear', colsample_bytree = 0.3, learning_rate = 0.01,\n",
        "                max_depth = 15, alpha = 10, n_estimators = 15))"
      ],
      "execution_count": 0,
      "outputs": []
    },
    {
      "cell_type": "code",
      "metadata": {
        "id": "CEuEHFoVR65b",
        "colab_type": "code",
        "colab": {}
      },
      "source": [
        "SMOTE_pipeline2.fit(X_train,y_train)"
      ],
      "execution_count": 0,
      "outputs": []
    },
    {
      "cell_type": "code",
      "metadata": {
        "id": "MZoiWnhTSX1C",
        "colab_type": "code",
        "outputId": "87a42123-9d26-42cb-c037-b790d5b928fa",
        "colab": {
          "base_uri": "https://localhost:8080/",
          "height": 363
        }
      },
      "source": [
        "# XGBoost with SMOTE OverSampling gives 79.33 % Accuracy\n",
        "y_pred = SMOTE_pipeline2.predict(X_test)\n",
        "\n",
        "print('accuracy of the model is %s' % accuracy_score(y_pred, y_test))\n",
        "print(classification_report(y_test, y_pred))"
      ],
      "execution_count": 13,
      "outputs": [
        {
          "output_type": "stream",
          "text": [
            "accuracy of the model is 0.7933884297520661\n",
            "                    precision    recall  f1-score   support\n",
            "\n",
            "               AMA       0.84      0.82      0.83        56\n",
            "          AskIndia       0.65      0.76      0.70        55\n",
            "  Business/Finance       0.83      0.72      0.77        67\n",
            "              Food       0.84      0.84      0.84        69\n",
            "     Non-Political       0.83      0.76      0.80        51\n",
            "    Policy/Economy       0.61      0.69      0.65        51\n",
            "          Politics       0.79      0.71      0.75        63\n",
            "       Reddiquette       0.81      0.91      0.85        32\n",
            "         Scheduled       0.90      0.81      0.85        57\n",
            "Science/Technology       0.80      0.94      0.86        54\n",
            "            Sports       0.89      0.82      0.85        50\n",
            "\n",
            "          accuracy                           0.79       605\n",
            "         macro avg       0.80      0.80      0.80       605\n",
            "      weighted avg       0.80      0.79      0.79       605\n",
            "\n"
          ],
          "name": "stdout"
        }
      ]
    },
    {
      "cell_type": "code",
      "metadata": {
        "id": "a82l5XyBHlh1",
        "colab_type": "code",
        "colab": {}
      },
      "source": [
        "Pkl_Filename = \"Pickle_RL_Model.pkl\"  \n",
        "\n",
        "with open(Pkl_Filename, 'wb') as file:  \n",
        "    pickle.dump(SMOTE_pipeline2, file)"
      ],
      "execution_count": 0,
      "outputs": []
    },
    {
      "cell_type": "code",
      "metadata": {
        "id": "ecshGZhhHyue",
        "colab_type": "code",
        "colab": {}
      },
      "source": [
        "with open(Pkl_Filename, 'rb') as file:  \n",
        "    Pickled_LR_Model = pickle.load(file)"
      ],
      "execution_count": 0,
      "outputs": []
    },
    {
      "cell_type": "code",
      "metadata": {
        "id": "fTcLg7xJTMH_",
        "colab_type": "code",
        "colab": {}
      },
      "source": [
        "#Saving the Model\n",
        "filename = 'SMOTE_XGB_MODEL_Cleaned_Final2.sav'\n",
        "pickle.dump(SMOTE_pipeline2, open(filename, 'wb'))"
      ],
      "execution_count": 0,
      "outputs": []
    },
    {
      "cell_type": "code",
      "metadata": {
        "id": "yqCRXJBEBso1",
        "colab_type": "code",
        "colab": {}
      },
      "source": [
        "#Model 3\n",
        "#Using Random OverSampler + XGBoost\n",
        "ROS_pipeline = make_pipeline(tvec, RandomOverSampler(random_state=777), xgb.XGBRFClassifier(objective ='reg:linear', colsample_bytree = 0.3, learning_rate = 0.01,\n",
        "                max_depth = 15, alpha = 10, n_estimators = 15))"
      ],
      "execution_count": 0,
      "outputs": []
    },
    {
      "cell_type": "code",
      "metadata": {
        "id": "Pe4ZOmwJB_-h",
        "colab_type": "code",
        "colab": {}
      },
      "source": [
        "ROS_pipeline.fit(X_train,y_train)"
      ],
      "execution_count": 0,
      "outputs": []
    },
    {
      "cell_type": "code",
      "metadata": {
        "id": "GaYU62-_DGTT",
        "colab_type": "code",
        "outputId": "2657f57c-f769-4c73-f9a9-c57cc6be43ff",
        "colab": {
          "base_uri": "https://localhost:8080/",
          "height": 363
        }
      },
      "source": [
        "#XGBoost with Random Over Sampling Gives 78.5 % Accuracy\n",
        "y_pred = ROS_pipeline.predict(X_test)\n",
        "\n",
        "print('accuracy of the model is %s' % accuracy_score(y_pred, y_test))\n",
        "print(classification_report(y_test, y_pred))"
      ],
      "execution_count": 0,
      "outputs": [
        {
          "output_type": "stream",
          "text": [
            "accuracy of the model is 0.7851239669421488\n",
            "                    precision    recall  f1-score   support\n",
            "\n",
            "               AMA       0.87      0.82      0.84        56\n",
            "          AskIndia       0.63      0.78      0.70        55\n",
            "  Business/Finance       0.77      0.66      0.71        67\n",
            "              Food       0.83      0.83      0.83        69\n",
            "     Non-Political       0.78      0.78      0.78        51\n",
            "    Policy/Economy       0.58      0.63      0.60        51\n",
            "          Politics       0.78      0.68      0.73        63\n",
            "       Reddiquette       0.85      0.91      0.88        32\n",
            "         Scheduled       0.87      0.81      0.84        57\n",
            "Science/Technology       0.81      0.96      0.88        54\n",
            "            Sports       0.93      0.86      0.90        50\n",
            "\n",
            "          accuracy                           0.79       605\n",
            "         macro avg       0.79      0.79      0.79       605\n",
            "      weighted avg       0.79      0.79      0.79       605\n",
            "\n"
          ],
          "name": "stdout"
        }
      ]
    },
    {
      "cell_type": "code",
      "metadata": {
        "id": "7WEeoXLQkKnl",
        "colab_type": "code",
        "colab": {}
      },
      "source": [
        "#Saving the Model\n",
        "filename = 'ROS_XGB_MODEL_Cleaned_Final2.sav'\n",
        "pickle.dump(ROS_pipeline, open(filename, 'wb'))"
      ],
      "execution_count": 0,
      "outputs": []
    },
    {
      "cell_type": "code",
      "metadata": {
        "id": "bSNXsGM8EGsr",
        "colab_type": "code",
        "colab": {}
      },
      "source": [
        "#Model 4\n",
        "#Experiment with Random Under Sampling + XGBoost\n",
        "from imblearn.under_sampling import NearMiss, RandomUnderSampler\n",
        "RUS_pipeline = make_pipeline(tvec, RandomUnderSampler(random_state=777), xgb.XGBRFClassifier(objective ='reg:linear', colsample_bytree = 0.3, learning_rate = 0.01,\n",
        "                max_depth = 15, alpha = 10, n_estimators = 15))\n"
      ],
      "execution_count": 0,
      "outputs": []
    },
    {
      "cell_type": "code",
      "metadata": {
        "id": "gxZiOHBBFO8L",
        "colab_type": "code",
        "colab": {}
      },
      "source": [
        "RUS_pipeline.fit(X_train, y_train)"
      ],
      "execution_count": 0,
      "outputs": []
    },
    {
      "cell_type": "code",
      "metadata": {
        "id": "zcvPanFzF7fa",
        "colab_type": "code",
        "outputId": "b00b204b-3145-4336-dbcd-99752015afed",
        "colab": {
          "base_uri": "https://localhost:8080/",
          "height": 363
        }
      },
      "source": [
        "#Random Under Sampling With XGBoost gives 79.17 % Accuracy\n",
        "y_pred = RUS_pipeline.predict(X_test)\n",
        "\n",
        "print('accuracy of the model is %s' % accuracy_score(y_pred, y_test))\n",
        "print(classification_report(y_test, y_pred))"
      ],
      "execution_count": 0,
      "outputs": [
        {
          "output_type": "stream",
          "text": [
            "accuracy of the model is 0.7917355371900826\n",
            "                    precision    recall  f1-score   support\n",
            "\n",
            "               AMA       0.87      0.82      0.84        56\n",
            "          AskIndia       0.70      0.69      0.70        55\n",
            "  Business/Finance       0.86      0.48      0.62        67\n",
            "              Food       0.84      0.91      0.87        69\n",
            "     Non-Political       0.69      0.80      0.75        51\n",
            "    Policy/Economy       0.59      0.80      0.68        51\n",
            "          Politics       0.90      0.73      0.81        63\n",
            "       Reddiquette       0.82      0.88      0.85        32\n",
            "         Scheduled       0.83      0.88      0.85        57\n",
            "Science/Technology       0.79      0.91      0.84        54\n",
            "            Sports       0.88      0.90      0.89        50\n",
            "\n",
            "          accuracy                           0.79       605\n",
            "         macro avg       0.80      0.80      0.79       605\n",
            "      weighted avg       0.80      0.79      0.79       605\n",
            "\n"
          ],
          "name": "stdout"
        }
      ]
    },
    {
      "cell_type": "code",
      "metadata": {
        "id": "qaaoarNUBWMU",
        "colab_type": "code",
        "colab": {}
      },
      "source": [
        "#Saving the Model\n",
        "filename = 'RUS_XGB_MODEL_Cleaned_Final2.sav'\n",
        "pickle.dump(RUS_pipeline, open(filename, 'wb'))"
      ],
      "execution_count": 0,
      "outputs": []
    },
    {
      "cell_type": "code",
      "metadata": {
        "id": "uBZt81kKCCIZ",
        "colab_type": "code",
        "colab": {}
      },
      "source": [
        "#Experimenting with Various Models without OverSampling or UnderSampling"
      ],
      "execution_count": 0,
      "outputs": []
    },
    {
      "cell_type": "code",
      "metadata": {
        "id": "kHaGl3rO2oKn",
        "colab_type": "code",
        "outputId": "bffe1eaf-249c-47d8-aade-d6ca301b3a65",
        "colab": {
          "base_uri": "https://localhost:8080/",
          "height": 363
        }
      },
      "source": [
        "#Model 1:- Using Random Forest\n",
        "from sklearn.ensemble import RandomForestClassifier\n",
        "\n",
        "#Case1:-Using x_data1\n",
        "#Case2:-Using x_data2\n",
        "#Case3:-Using x_data3\n",
        "\n",
        "'''On Experimenting with all three Cases with a wide range of hyperparameters, it was found that\n",
        " x_data3 had most accuracy'''\n",
        "#Results using x_data1 and x_data2 can be seen by replacing x_data3 in the code below.\n",
        "\n",
        "#Splitting Data into Training and Tesing Sets\n",
        "X_train, X_test, y_train, y_test = train_test_split(x_data3,y_data, test_size=0.25, random_state = 2)\n",
        "\n",
        "#We build a Pipleline where Input Text in Vectorized Using TF-IDF Vectorizer and then we use Random Forest\n",
        "  \n",
        "  \n",
        "clf = Pipeline([('tfidf', TfidfVectorizer()),\n",
        "                ('clf', RandomForestClassifier(n_estimators=1200, n_jobs=-1))])\n",
        "clf.fit(X_train, y_train)\n",
        "\n",
        "y_pred = clf.predict(X_test)\n",
        "\n",
        "print('accuracy of the model is %s' % accuracy_score(y_pred, y_test))\n",
        "print(classification_report(y_test, y_pred))"
      ],
      "execution_count": 0,
      "outputs": [
        {
          "output_type": "stream",
          "text": [
            "accuracy of the model is 0.7669421487603306\n",
            "                    precision    recall  f1-score   support\n",
            "\n",
            "               AMA       0.79      0.79      0.79        56\n",
            "          AskIndia       0.72      0.69      0.70        55\n",
            "  Business/Finance       0.84      0.69      0.75        67\n",
            "              Food       0.83      0.90      0.86        69\n",
            "     Non-Political       0.63      0.80      0.71        51\n",
            "    Policy/Economy       0.59      0.63      0.61        51\n",
            "          Politics       0.69      0.78      0.73        63\n",
            "       Reddiquette       0.80      0.62      0.70        32\n",
            "         Scheduled       0.98      0.72      0.83        57\n",
            "Science/Technology       0.77      0.93      0.84        54\n",
            "            Sports       0.93      0.82      0.87        50\n",
            "\n",
            "          accuracy                           0.77       605\n",
            "         macro avg       0.78      0.76      0.76       605\n",
            "      weighted avg       0.78      0.77      0.77       605\n",
            "\n"
          ],
          "name": "stdout"
        }
      ]
    },
    {
      "cell_type": "code",
      "metadata": {
        "id": "6AWUa6EJ2z3m",
        "colab_type": "code",
        "outputId": "caa9943e-e9db-4a65-a784-baa075493fae",
        "colab": {
          "base_uri": "https://localhost:8080/",
          "height": 217
        }
      },
      "source": [
        "#Random Forest Gives 76.69% accuracy\n",
        "#Confusion Matrix for Random Forest Classifier Using x_data3\n",
        "confusion_matrix(y_test, y_pred)"
      ],
      "execution_count": 0,
      "outputs": [
        {
          "output_type": "execute_result",
          "data": {
            "text/plain": [
              "array([[46,  1,  1,  0,  4,  1,  1,  1,  0,  1,  0],\n",
              "       [ 1, 37,  2,  3,  4,  3,  1,  2,  0,  1,  1],\n",
              "       [ 0,  2, 50,  1,  3,  4,  1,  1,  0,  5,  0],\n",
              "       [ 2,  3,  0, 63,  0,  0,  1,  0,  0,  0,  0],\n",
              "       [ 0,  2,  0,  3, 41,  0,  2,  0,  0,  2,  1],\n",
              "       [ 1,  1,  6,  1,  1, 31,  7,  0,  0,  2,  1],\n",
              "       [ 0,  2,  0,  3,  3,  2, 50,  0,  1,  0,  2],\n",
              "       [ 4,  2,  0,  0,  2,  3,  0, 21,  0,  0,  0],\n",
              "       [ 1,  3,  2,  1,  1,  2,  5,  1, 40,  1,  0],\n",
              "       [ 4,  0,  0,  0,  0,  0,  1,  0,  0, 49,  0],\n",
              "       [ 1,  1,  0,  0,  1,  2,  2,  0,  0,  2, 41]])"
            ]
          },
          "metadata": {
            "tags": []
          },
          "execution_count": 17
        }
      ]
    },
    {
      "cell_type": "code",
      "metadata": {
        "id": "EJI0z3r7yaUy",
        "colab_type": "code",
        "colab": {}
      },
      "source": [
        "#Saving the Model\n",
        "filename = 'finalized_model_rf_Final.sav'\n",
        "pickle.dump(clf, open(filename, 'wb'))"
      ],
      "execution_count": 0,
      "outputs": []
    },
    {
      "cell_type": "code",
      "metadata": {
        "id": "psxQq8v-Klh7",
        "colab_type": "code",
        "outputId": "35fae435-cc34-453f-fd14-1a5d5d350f75",
        "colab": {
          "base_uri": "https://localhost:8080/",
          "height": 363
        }
      },
      "source": [
        "#Model 2:- Using Extreme Gradient Boosted Trees\n",
        "\n",
        "#Case1:-Using x_data1\n",
        "#Case2:-Using x_data2\n",
        "#Case3:-Using x_data3\n",
        "\n",
        "'''On Experimenting with all three Cases with a wide range of hyperparameters, it was found that\n",
        " x_data3 had most accuracy'''\n",
        "#Results using x_data1 and x_data2 can be seen by replacing x_data3 in the code below.\n",
        "\n",
        "\n",
        "#Splitting Data into Training and Tesing Sets\n",
        "X_train, X_test, y_train, y_test = train_test_split(x_data3,y_data, test_size=0.3, random_state = 2)\n",
        "\n",
        "#We build a Pipleline where Input Text in Vectorized Using TF-IDF Vectorizer and then we use Random Forest\n",
        "  \n",
        "clf4 = Pipeline([('tfidf', TfidfVectorizer()),\n",
        "                ('clf4', xgb.XGBRFClassifier(objective ='reg:linear', colsample_bytree = 0.3, learning_rate = 0.001,\n",
        "                max_depth = 15, alpha = 10, n_estimators = 15))])\n",
        "clf4.fit(X_train, y_train)\n",
        "\n",
        "y_pred = clf4.predict(X_test)\n",
        "\n",
        "print('accuracy of the model is %s' % accuracy_score(y_pred, y_test))\n",
        "print(classification_report(y_test, y_pred))"
      ],
      "execution_count": 16,
      "outputs": [
        {
          "output_type": "stream",
          "text": [
            "accuracy of the model is 0.8085399449035813\n",
            "                    precision    recall  f1-score   support\n",
            "\n",
            "               AMA       0.89      0.82      0.85        68\n",
            "          AskIndia       0.75      0.83      0.79        65\n",
            "  Business/Finance       0.78      0.81      0.79        78\n",
            "              Food       0.80      0.84      0.82        79\n",
            "     Non-Political       0.77      0.73      0.75        63\n",
            "    Policy/Economy       0.65      0.74      0.69        61\n",
            "          Politics       0.82      0.74      0.78        76\n",
            "       Reddiquette       0.87      0.85      0.86        39\n",
            "         Scheduled       0.94      0.80      0.86        74\n",
            "Science/Technology       0.83      0.87      0.85        63\n",
            "            Sports       0.84      0.90      0.87        60\n",
            "\n",
            "          accuracy                           0.81       726\n",
            "         macro avg       0.81      0.81      0.81       726\n",
            "      weighted avg       0.81      0.81      0.81       726\n",
            "\n"
          ],
          "name": "stdout"
        }
      ]
    },
    {
      "cell_type": "code",
      "metadata": {
        "id": "T9ACAmtGRiYz",
        "colab_type": "code",
        "colab": {}
      },
      "source": [
        "Pkl_Filename = \"Pickle_RL_Model3.pkl\"  \n",
        "\n",
        "with open(Pkl_Filename, 'wb') as file:  \n",
        "    pickle.dump(clf4, file)"
      ],
      "execution_count": 0,
      "outputs": []
    },
    {
      "cell_type": "code",
      "metadata": {
        "id": "-npuPeBxK2Yv",
        "colab_type": "code",
        "outputId": "47e53cea-9caa-4a88-a8d9-e41f3d934ade",
        "colab": {
          "base_uri": "https://localhost:8080/",
          "height": 217
        }
      },
      "source": [
        "#XGBoost Gives 80.85% Accuracy\n",
        "#Confusion Matrix for XGBoost using x_data3\n",
        "confusion_matrix(y_test, y_pred)"
      ],
      "execution_count": 0,
      "outputs": [
        {
          "output_type": "execute_result",
          "data": {
            "text/plain": [
              "array([[32,  1,  0,  0,  0,  0,  0,  1,  1,  0,  0],\n",
              "       [ 1, 33,  2,  2,  0,  3,  0,  2,  0,  0,  1],\n",
              "       [ 1,  1, 22,  0,  0,  6,  0,  1,  0,  0,  1],\n",
              "       [ 1,  1,  0,  8,  0,  0,  0,  0,  0,  0,  0],\n",
              "       [ 0,  0,  1,  0, 12,  1,  0,  0,  0,  0,  3],\n",
              "       [ 1,  0,  3,  1,  0, 23,  0,  1,  0,  0,  0],\n",
              "       [ 0,  0,  0,  1,  1,  2,  5,  1,  0,  1,  0],\n",
              "       [ 1,  0,  1,  0,  0,  0,  1, 33,  1,  0,  1],\n",
              "       [ 2,  6,  1,  0,  3,  1,  0,  0, 19,  0,  0],\n",
              "       [ 0,  0,  2,  0,  0,  3,  0,  1,  0, 14,  1],\n",
              "       [ 1,  1,  0,  0,  0,  1,  0,  0,  0,  1, 17]])"
            ]
          },
          "metadata": {
            "tags": []
          },
          "execution_count": 9
        }
      ]
    },
    {
      "cell_type": "code",
      "metadata": {
        "id": "iBW2F8p4ZzHs",
        "colab_type": "code",
        "colab": {}
      },
      "source": [
        "#Saving the Model\n",
        "filename = 'finalized_model_xg2_Cleaned2.sav'\n",
        "pickle.dump(clf4, open(filename, 'wb'))\n"
      ],
      "execution_count": 0,
      "outputs": []
    },
    {
      "cell_type": "code",
      "metadata": {
        "id": "KzTsmkb4JYTP",
        "colab_type": "code",
        "colab": {}
      },
      "source": [
        "#The next Model is Multi-Layer-Perceptron.All Null Values are removed Manually Before using it.\n",
        "dataset2 = dataset"
      ],
      "execution_count": 0,
      "outputs": []
    },
    {
      "cell_type": "code",
      "metadata": {
        "id": "XEpmsg9AJknd",
        "colab_type": "code",
        "outputId": "1674e367-e732-41c0-daa7-c9a6a697e658",
        "colab": {
          "base_uri": "https://localhost:8080/",
          "height": 445
        }
      },
      "source": [
        "dataset2.isnull()"
      ],
      "execution_count": 0,
      "outputs": [
        {
          "output_type": "execute_result",
          "data": {
            "text/html": [
              "<div>\n",
              "<style scoped>\n",
              "    .dataframe tbody tr th:only-of-type {\n",
              "        vertical-align: middle;\n",
              "    }\n",
              "\n",
              "    .dataframe tbody tr th {\n",
              "        vertical-align: top;\n",
              "    }\n",
              "\n",
              "    .dataframe thead th {\n",
              "        text-align: right;\n",
              "    }\n",
              "</style>\n",
              "<table border=\"1\" class=\"dataframe\">\n",
              "  <thead>\n",
              "    <tr style=\"text-align: right;\">\n",
              "      <th></th>\n",
              "      <th>Unnamed: 0</th>\n",
              "      <th>flair</th>\n",
              "      <th>title</th>\n",
              "      <th>score</th>\n",
              "      <th>id</th>\n",
              "      <th>url</th>\n",
              "      <th>num_comm</th>\n",
              "      <th>body</th>\n",
              "      <th>created</th>\n",
              "      <th>author</th>\n",
              "      <th>comments</th>\n",
              "      <th>feature_combine</th>\n",
              "    </tr>\n",
              "  </thead>\n",
              "  <tbody>\n",
              "    <tr>\n",
              "      <th>0</th>\n",
              "      <td>False</td>\n",
              "      <td>False</td>\n",
              "      <td>False</td>\n",
              "      <td>False</td>\n",
              "      <td>False</td>\n",
              "      <td>False</td>\n",
              "      <td>False</td>\n",
              "      <td>False</td>\n",
              "      <td>False</td>\n",
              "      <td>False</td>\n",
              "      <td>False</td>\n",
              "      <td>False</td>\n",
              "    </tr>\n",
              "    <tr>\n",
              "      <th>1</th>\n",
              "      <td>False</td>\n",
              "      <td>False</td>\n",
              "      <td>False</td>\n",
              "      <td>False</td>\n",
              "      <td>False</td>\n",
              "      <td>False</td>\n",
              "      <td>False</td>\n",
              "      <td>False</td>\n",
              "      <td>False</td>\n",
              "      <td>False</td>\n",
              "      <td>False</td>\n",
              "      <td>False</td>\n",
              "    </tr>\n",
              "    <tr>\n",
              "      <th>2</th>\n",
              "      <td>False</td>\n",
              "      <td>False</td>\n",
              "      <td>False</td>\n",
              "      <td>False</td>\n",
              "      <td>False</td>\n",
              "      <td>False</td>\n",
              "      <td>False</td>\n",
              "      <td>True</td>\n",
              "      <td>False</td>\n",
              "      <td>False</td>\n",
              "      <td>False</td>\n",
              "      <td>False</td>\n",
              "    </tr>\n",
              "    <tr>\n",
              "      <th>3</th>\n",
              "      <td>False</td>\n",
              "      <td>False</td>\n",
              "      <td>False</td>\n",
              "      <td>False</td>\n",
              "      <td>False</td>\n",
              "      <td>False</td>\n",
              "      <td>False</td>\n",
              "      <td>True</td>\n",
              "      <td>False</td>\n",
              "      <td>False</td>\n",
              "      <td>False</td>\n",
              "      <td>False</td>\n",
              "    </tr>\n",
              "    <tr>\n",
              "      <th>4</th>\n",
              "      <td>False</td>\n",
              "      <td>False</td>\n",
              "      <td>False</td>\n",
              "      <td>False</td>\n",
              "      <td>False</td>\n",
              "      <td>False</td>\n",
              "      <td>False</td>\n",
              "      <td>True</td>\n",
              "      <td>False</td>\n",
              "      <td>False</td>\n",
              "      <td>False</td>\n",
              "      <td>False</td>\n",
              "    </tr>\n",
              "    <tr>\n",
              "      <th>...</th>\n",
              "      <td>...</td>\n",
              "      <td>...</td>\n",
              "      <td>...</td>\n",
              "      <td>...</td>\n",
              "      <td>...</td>\n",
              "      <td>...</td>\n",
              "      <td>...</td>\n",
              "      <td>...</td>\n",
              "      <td>...</td>\n",
              "      <td>...</td>\n",
              "      <td>...</td>\n",
              "      <td>...</td>\n",
              "    </tr>\n",
              "    <tr>\n",
              "      <th>2414</th>\n",
              "      <td>False</td>\n",
              "      <td>False</td>\n",
              "      <td>False</td>\n",
              "      <td>False</td>\n",
              "      <td>False</td>\n",
              "      <td>False</td>\n",
              "      <td>False</td>\n",
              "      <td>False</td>\n",
              "      <td>False</td>\n",
              "      <td>False</td>\n",
              "      <td>False</td>\n",
              "      <td>False</td>\n",
              "    </tr>\n",
              "    <tr>\n",
              "      <th>2415</th>\n",
              "      <td>False</td>\n",
              "      <td>False</td>\n",
              "      <td>False</td>\n",
              "      <td>False</td>\n",
              "      <td>False</td>\n",
              "      <td>False</td>\n",
              "      <td>False</td>\n",
              "      <td>False</td>\n",
              "      <td>False</td>\n",
              "      <td>False</td>\n",
              "      <td>False</td>\n",
              "      <td>False</td>\n",
              "    </tr>\n",
              "    <tr>\n",
              "      <th>2416</th>\n",
              "      <td>False</td>\n",
              "      <td>False</td>\n",
              "      <td>False</td>\n",
              "      <td>False</td>\n",
              "      <td>False</td>\n",
              "      <td>False</td>\n",
              "      <td>False</td>\n",
              "      <td>False</td>\n",
              "      <td>False</td>\n",
              "      <td>False</td>\n",
              "      <td>False</td>\n",
              "      <td>False</td>\n",
              "    </tr>\n",
              "    <tr>\n",
              "      <th>2417</th>\n",
              "      <td>False</td>\n",
              "      <td>False</td>\n",
              "      <td>False</td>\n",
              "      <td>False</td>\n",
              "      <td>False</td>\n",
              "      <td>False</td>\n",
              "      <td>False</td>\n",
              "      <td>False</td>\n",
              "      <td>False</td>\n",
              "      <td>False</td>\n",
              "      <td>False</td>\n",
              "      <td>False</td>\n",
              "    </tr>\n",
              "    <tr>\n",
              "      <th>2418</th>\n",
              "      <td>False</td>\n",
              "      <td>False</td>\n",
              "      <td>False</td>\n",
              "      <td>False</td>\n",
              "      <td>False</td>\n",
              "      <td>False</td>\n",
              "      <td>False</td>\n",
              "      <td>False</td>\n",
              "      <td>False</td>\n",
              "      <td>False</td>\n",
              "      <td>False</td>\n",
              "      <td>False</td>\n",
              "    </tr>\n",
              "  </tbody>\n",
              "</table>\n",
              "<p>2419 rows × 12 columns</p>\n",
              "</div>"
            ],
            "text/plain": [
              "      Unnamed: 0  flair  title  ...  author  comments  feature_combine\n",
              "0          False  False  False  ...   False     False            False\n",
              "1          False  False  False  ...   False     False            False\n",
              "2          False  False  False  ...   False     False            False\n",
              "3          False  False  False  ...   False     False            False\n",
              "4          False  False  False  ...   False     False            False\n",
              "...          ...    ...    ...  ...     ...       ...              ...\n",
              "2414       False  False  False  ...   False     False            False\n",
              "2415       False  False  False  ...   False     False            False\n",
              "2416       False  False  False  ...   False     False            False\n",
              "2417       False  False  False  ...   False     False            False\n",
              "2418       False  False  False  ...   False     False            False\n",
              "\n",
              "[2419 rows x 12 columns]"
            ]
          },
          "metadata": {
            "tags": []
          },
          "execution_count": 35
        }
      ]
    },
    {
      "cell_type": "code",
      "metadata": {
        "id": "xeJ5LtaRJoHu",
        "colab_type": "code",
        "colab": {}
      },
      "source": [
        "dataset2 = dataset2.dropna().reset_index(drop=True)"
      ],
      "execution_count": 0,
      "outputs": []
    },
    {
      "cell_type": "code",
      "metadata": {
        "id": "6li5UzjYKCUm",
        "colab_type": "code",
        "colab": {}
      },
      "source": [
        "y_data2 = dataset2['flair']  #We need to Predict These\n",
        "y_data2.shape\n",
        "\n",
        "x_data1 = dataset2['body']  # try to predict flair only based on body content\n",
        "x_data2 = dataset2['comments'] # try to predict flair only based on comments\n",
        "x_data4 = dataset2['feature_combine'] # try to predict flair based on a combination of features"
      ],
      "execution_count": 0,
      "outputs": []
    },
    {
      "cell_type": "code",
      "metadata": {
        "id": "1O3jbWnU8ese",
        "colab_type": "code",
        "outputId": "331195d3-adad-4cb6-a5a0-a22e73f29d9f",
        "colab": {
          "base_uri": "https://localhost:8080/",
          "height": 363
        }
      },
      "source": [
        "#Model 3:- Using Multi Layer Perceptron\n",
        "from sklearn.neural_network import MLPClassifier\n",
        "\n",
        "# As oberserved Combined_Features led to Increased Accuracy. Hence x_data4 is used\n",
        "\n",
        "\n",
        "#Splitting Data into Training and Tesing Sets\n",
        "X_train, X_test, y_train, y_test = train_test_split(x_data4,y_data2, test_size=0.3, random_state = 2)\n",
        "\n",
        "#We build a Pipleline where Input Text in Vectorized Using TF-IDF Vectorizer and then we use Random Forest\n",
        "  \n",
        "clf3 = Pipeline([('tfidf', TfidfVectorizer()),\n",
        "                ('clf3',  MLPClassifier(hidden_layer_sizes=(128,64,32), max_iter=300,activation = 'relu',solver='adam',random_state=1))])\n",
        "clf3.fit(X_train, y_train)\n",
        "\n",
        "y_pred = clf3.predict(X_test)\n",
        "\n",
        "print('accuracy of the model is %s' % accuracy_score(y_pred, y_test))\n",
        "print(classification_report(y_test, y_pred))"
      ],
      "execution_count": 0,
      "outputs": [
        {
          "output_type": "stream",
          "text": [
            "accuracy of the model is 0.4383561643835616\n",
            "                    precision    recall  f1-score   support\n",
            "\n",
            "               AMA       0.69      0.43      0.53        51\n",
            "          AskIndia       0.40      0.15      0.22        66\n",
            "  Business/Finance       0.54      0.68      0.60        57\n",
            "              Food       0.73      0.31      0.43        26\n",
            "     Non-Political       1.00      0.04      0.07        28\n",
            "    Policy/Economy       0.40      0.45      0.43        42\n",
            "          Politics       0.44      0.15      0.22        27\n",
            "       Reddiquette       0.75      0.66      0.70        32\n",
            "         Scheduled       0.23      0.84      0.36        44\n",
            "Science/Technology       0.50      0.39      0.44        33\n",
            "            Sports       0.75      0.56      0.64        32\n",
            "\n",
            "          accuracy                           0.44       438\n",
            "         macro avg       0.58      0.42      0.42       438\n",
            "      weighted avg       0.55      0.44      0.43       438\n",
            "\n"
          ],
          "name": "stdout"
        }
      ]
    },
    {
      "cell_type": "code",
      "metadata": {
        "id": "JGAs42po-bAp",
        "colab_type": "code",
        "outputId": "5d86590d-e11c-43e8-9634-3b18d371d921",
        "colab": {
          "base_uri": "https://localhost:8080/",
          "height": 217
        }
      },
      "source": [
        "# Multi_Layer_Perceptron gave 43.83% Accuracy\n",
        "#Confusion Matrix for Multi Layer Perceptron using x_data1\n",
        "confusion_matrix(y_test, y_pred)"
      ],
      "execution_count": 0,
      "outputs": [
        {
          "output_type": "execute_result",
          "data": {
            "text/plain": [
              "array([[21, 10,  0,  2,  0,  0,  1,  0,  1,  0,  0],\n",
              "       [ 2, 25,  5,  2,  2,  1,  4,  1,  0,  1,  1],\n",
              "       [ 0,  5, 19,  0,  0,  5,  1,  0,  0,  2,  0],\n",
              "       [ 0,  1,  1,  6,  0,  0,  2,  0,  0,  0,  0],\n",
              "       [ 1, 12,  1,  0,  1,  0,  1,  0,  0,  0,  1],\n",
              "       [ 2,  4,  7,  1,  1,  7,  3,  0,  2,  0,  2],\n",
              "       [ 0,  2,  0,  1,  0,  0,  5,  2,  0,  0,  1],\n",
              "       [ 1,  8,  2,  0,  0,  1,  1, 23,  2,  0,  0],\n",
              "       [ 1, 17,  3,  2,  0,  0,  1,  0,  7,  0,  1],\n",
              "       [ 1,  2, 11,  0,  0,  1,  0,  1,  0,  5,  0],\n",
              "       [ 2,  5,  0,  0,  0,  0,  1,  1,  0,  0, 12]])"
            ]
          },
          "metadata": {
            "tags": []
          },
          "execution_count": 15
        }
      ]
    },
    {
      "cell_type": "code",
      "metadata": {
        "id": "N1AcP3ydLQan",
        "colab_type": "code",
        "colab": {}
      },
      "source": [
        "#Experiment with Deep-Learning Architectures"
      ],
      "execution_count": 0,
      "outputs": []
    },
    {
      "cell_type": "code",
      "metadata": {
        "id": "cLIIXTo7LUO9",
        "colab_type": "code",
        "colab": {}
      },
      "source": [
        "#Model 1\n",
        "#CNN for Text-Classification\n",
        "''' The motivation for using CNN for text classification comes from the fact that CNNs are known to be\n",
        "good at Detecting Spatial Relationship and Extract Meaningful patterns. To detect a flair, the context \n",
        "of an article can be understood by observing relationship between words. Hence, I experimented with \n",
        "CNNs'''"
      ],
      "execution_count": 0,
      "outputs": []
    },
    {
      "cell_type": "code",
      "metadata": {
        "id": "7w1WU1kyL60t",
        "colab_type": "code",
        "outputId": "9f35f94d-d5cd-4943-ba99-d790965e1287",
        "colab": {
          "base_uri": "https://localhost:8080/",
          "height": 35
        }
      },
      "source": [
        "import tensorflow as tf\n",
        "print(tf.__version__)"
      ],
      "execution_count": 0,
      "outputs": [
        {
          "output_type": "stream",
          "text": [
            "2.2.0-rc3\n"
          ],
          "name": "stdout"
        }
      ]
    },
    {
      "cell_type": "code",
      "metadata": {
        "id": "jOs8AIKUMB1Z",
        "colab_type": "code",
        "colab": {}
      },
      "source": [
        "import pandas as pd\n",
        "import numpy as np\n",
        "import matplotlib.pyplot as plt\n",
        "import seaborn as sns\n",
        "from sklearn.model_selection import train_test_split\n",
        "from sklearn.preprocessing import LabelEncoder\n",
        "from keras.models import Model\n",
        "from keras.layers import LSTM, Activation, Dense, Dropout, Input, Embedding\n",
        "from keras.optimizers import RMSprop\n",
        "from keras.preprocessing.text import Tokenizer\n",
        "from keras.preprocessing import sequence\n",
        "from keras.utils import to_categorical\n",
        "from keras.callbacks import EarlyStopping\n",
        "%matplotlib inline"
      ],
      "execution_count": 0,
      "outputs": []
    },
    {
      "cell_type": "code",
      "metadata": {
        "id": "cEt27DBkMFZM",
        "colab_type": "code",
        "colab": {}
      },
      "source": [
        "from keras.layers import Flatten, Dense, Dropout, BatchNormalization, Conv1D, Conv2D, MaxPooling1D, MaxPooling2D"
      ],
      "execution_count": 0,
      "outputs": []
    },
    {
      "cell_type": "code",
      "metadata": {
        "id": "nEWyl7l3MQQu",
        "colab_type": "code",
        "colab": {}
      },
      "source": [
        "max_words = 1500\n",
        "max_len = 200\n",
        "tok = Tokenizer(num_words=max_words)\n",
        "tok.fit_on_texts(x_data3)\n",
        "sequences = tok.texts_to_sequences(x_data3)\n",
        "sequences_matrix = sequence.pad_sequences(sequences,maxlen=max_len)"
      ],
      "execution_count": 0,
      "outputs": []
    },
    {
      "cell_type": "code",
      "metadata": {
        "id": "iTaDGa7mMVAQ",
        "colab_type": "code",
        "outputId": "171da895-8574-40e8-dfdc-e13652c7e882",
        "colab": {
          "base_uri": "https://localhost:8080/",
          "height": 35
        }
      },
      "source": [
        "print(type(y_data))"
      ],
      "execution_count": 0,
      "outputs": [
        {
          "output_type": "stream",
          "text": [
            "<class 'pandas.core.series.Series'>\n"
          ],
          "name": "stdout"
        }
      ]
    },
    {
      "cell_type": "code",
      "metadata": {
        "id": "dr8xA9nmMZi_",
        "colab_type": "code",
        "outputId": "f4efd402-31a9-4cdb-fea8-fd89dc2ec86c",
        "colab": {
          "base_uri": "https://localhost:8080/",
          "height": 35
        }
      },
      "source": [
        "Y = pd.get_dummies(dataset['flair']).values\n",
        "Y.shape"
      ],
      "execution_count": 0,
      "outputs": [
        {
          "output_type": "execute_result",
          "data": {
            "text/plain": [
              "(2419, 11)"
            ]
          },
          "metadata": {
            "tags": []
          },
          "execution_count": 44
        }
      ]
    },
    {
      "cell_type": "code",
      "metadata": {
        "id": "cCMGlWCdMffj",
        "colab_type": "code",
        "colab": {}
      },
      "source": [
        "EMBEDDING_DIM = 200"
      ],
      "execution_count": 0,
      "outputs": []
    },
    {
      "cell_type": "code",
      "metadata": {
        "id": "1zlha-A-MkxE",
        "colab_type": "code",
        "colab": {}
      },
      "source": [
        "X_train, X_test, y_train, y_test = train_test_split(sequences_matrix,Y, test_size=0.15, random_state = 2)"
      ],
      "execution_count": 0,
      "outputs": []
    },
    {
      "cell_type": "code",
      "metadata": {
        "id": "E4Fwrn_uMomF",
        "colab_type": "code",
        "outputId": "ed044b9a-4f6e-4cd3-c5fa-f0d3ee95e1c3",
        "colab": {
          "base_uri": "https://localhost:8080/",
          "height": 35
        }
      },
      "source": [
        "X_train.shape"
      ],
      "execution_count": 0,
      "outputs": [
        {
          "output_type": "execute_result",
          "data": {
            "text/plain": [
              "(2056, 200)"
            ]
          },
          "metadata": {
            "tags": []
          },
          "execution_count": 47
        }
      ]
    },
    {
      "cell_type": "code",
      "metadata": {
        "id": "5g04jB6GMt7i",
        "colab_type": "code",
        "colab": {}
      },
      "source": [
        "from keras.models import Sequential\n",
        "from keras.layers import Dense, Embedding, LSTM, SpatialDropout1D\n",
        "from sklearn.model_selection import train_test_split\n",
        "from keras.utils.np_utils import to_categorical\n",
        "from keras.callbacks import EarlyStopping\n",
        "from keras.layers import Dropout"
      ],
      "execution_count": 0,
      "outputs": []
    },
    {
      "cell_type": "code",
      "metadata": {
        "id": "HPzX5xZhMvTP",
        "colab_type": "code",
        "colab": {}
      },
      "source": [
        "# Adam Optimizer was used for Experiment\n",
        "adam = tf.keras.optimizers.Adadelta(learning_rate=0.01, rho=0.95)"
      ],
      "execution_count": 0,
      "outputs": []
    },
    {
      "cell_type": "code",
      "metadata": {
        "id": "-GukKsdRM50i",
        "colab_type": "code",
        "colab": {}
      },
      "source": [
        "# Building a Deep CNN model\n",
        "model = Sequential()\n",
        "model.add(Embedding(max_words, EMBEDDING_DIM, input_length=sequences_matrix.shape[1]))\n",
        "model.add(SpatialDropout1D(0.2))\n",
        "#Layer 1\n",
        "model.add(Conv1D(\n",
        "                    nb_filter=16,\n",
        "                    filter_length=1,\n",
        "                    border_mode=\"valid\",\n",
        "                    activation=\"relu\",\n",
        "                        ))\n",
        "\n",
        "# Using standard max pooling \n",
        "model.add(MaxPooling1D(pool_length=2))\n",
        "                       \n",
        "#Layer 2\n",
        "model.add(Conv1D(\n",
        "                    nb_filter=32,\n",
        "                    filter_length=2,\n",
        "                    border_mode=\"valid\",\n",
        "                    activation=\"relu\",\n",
        "                        ))\n",
        "\n",
        "# Using standard max pooling \n",
        "model.add(MaxPooling1D(pool_length=2))  \n",
        "\n",
        "#Layer 3\n",
        "model.add(Conv1D(\n",
        "                    nb_filter=64,\n",
        "                    filter_length=4,\n",
        "                    border_mode=\"valid\",\n",
        "                    activation=\"relu\",\n",
        "                        ))\n",
        "\n",
        "# Using standard max pooling\n",
        "model.add(MaxPooling1D(pool_length=2)) \n",
        "\n",
        "#Layer 4\n",
        "model.add(Conv1D(\n",
        "                    nb_filter=128,\n",
        "                    filter_length=6,\n",
        "                    border_mode=\"valid\",\n",
        "                    activation=\"relu\",\n",
        "                        ))\n",
        "\n",
        "# Using standard max pooling \n",
        "model.add(MaxPooling1D(pool_length=2)) \n",
        "\n",
        "#Layer 5\n",
        "model.add(Conv1D(\n",
        "                    nb_filter=256,\n",
        "                    filter_length=8,\n",
        "                    border_mode=\"valid\",\n",
        "                    activation=\"relu\",\n",
        "                        ))\n",
        "\n",
        "# Using standard max pooling\n",
        "model.add(MaxPooling1D(pool_length=2))\n",
        "\n",
        "# Flattening to Make a Fully Connected Neural Network\n",
        "model.add(Flatten())\n",
        "model.add(Dense(256, activation = 'relu'))\n",
        "model.add(Dense(128, activation = 'relu'))\n",
        "model.add(Dense(64, activation = 'relu'))\n",
        "model.add(Dense(32, activation = 'relu'))\n",
        "model.add(Dense(11, activation='softmax'))\n",
        "model.compile(loss='categorical_crossentropy', optimizer='adam', metrics=['accuracy'])\n",
        "print(model.summary())"
      ],
      "execution_count": 0,
      "outputs": []
    },
    {
      "cell_type": "code",
      "metadata": {
        "id": "Jd3XgaSdM__n",
        "colab_type": "code",
        "outputId": "b5f1b235-57de-4b25-eece-bd80cc7bd907",
        "colab": {
          "base_uri": "https://localhost:8080/",
          "height": 819
        }
      },
      "source": [
        "#Training the Model\n",
        "epochs = 20\n",
        "batch_size = 15\n",
        "\n",
        "history = model.fit(X_train, y_train, epochs=epochs, batch_size=batch_size,validation_split=0.2)"
      ],
      "execution_count": 0,
      "outputs": [
        {
          "output_type": "stream",
          "text": [
            "/usr/local/lib/python3.6/dist-packages/tensorflow/python/framework/indexed_slices.py:434: UserWarning: Converting sparse IndexedSlices to a dense Tensor of unknown shape. This may consume a large amount of memory.\n",
            "  \"Converting sparse IndexedSlices to a dense Tensor of unknown shape. \"\n"
          ],
          "name": "stderr"
        },
        {
          "output_type": "stream",
          "text": [
            "Train on 1644 samples, validate on 412 samples\n",
            "Epoch 1/20\n",
            "1644/1644 [==============================] - 5s 3ms/step - loss: 2.3648 - accuracy: 0.1150 - val_loss: 2.2223 - val_accuracy: 0.1626\n",
            "Epoch 2/20\n",
            "1644/1644 [==============================] - 4s 2ms/step - loss: 2.1880 - accuracy: 0.1740 - val_loss: 2.0968 - val_accuracy: 0.1845\n",
            "Epoch 3/20\n",
            "1644/1644 [==============================] - 4s 2ms/step - loss: 2.0454 - accuracy: 0.1904 - val_loss: 2.0094 - val_accuracy: 0.2257\n",
            "Epoch 4/20\n",
            "1644/1644 [==============================] - 4s 2ms/step - loss: 1.8625 - accuracy: 0.2482 - val_loss: 1.9008 - val_accuracy: 0.2646\n",
            "Epoch 5/20\n",
            "1644/1644 [==============================] - 4s 2ms/step - loss: 1.6717 - accuracy: 0.3339 - val_loss: 1.8055 - val_accuracy: 0.3204\n",
            "Epoch 6/20\n",
            "1644/1644 [==============================] - 4s 2ms/step - loss: 1.4899 - accuracy: 0.4197 - val_loss: 1.6956 - val_accuracy: 0.4126\n",
            "Epoch 7/20\n",
            "1644/1644 [==============================] - 4s 2ms/step - loss: 1.2445 - accuracy: 0.4970 - val_loss: 1.6326 - val_accuracy: 0.4272\n",
            "Epoch 8/20\n",
            "1644/1644 [==============================] - 4s 2ms/step - loss: 0.9825 - accuracy: 0.6113 - val_loss: 1.5930 - val_accuracy: 0.5607\n",
            "Epoch 9/20\n",
            "1644/1644 [==============================] - 4s 2ms/step - loss: 0.8663 - accuracy: 0.6837 - val_loss: 1.6317 - val_accuracy: 0.5413\n",
            "Epoch 10/20\n",
            "1644/1644 [==============================] - 4s 2ms/step - loss: 0.7099 - accuracy: 0.7251 - val_loss: 1.7178 - val_accuracy: 0.5777\n",
            "Epoch 11/20\n",
            "1644/1644 [==============================] - 4s 2ms/step - loss: 0.6279 - accuracy: 0.7451 - val_loss: 1.7443 - val_accuracy: 0.5680\n",
            "Epoch 12/20\n",
            "1644/1644 [==============================] - 4s 2ms/step - loss: 0.5868 - accuracy: 0.7725 - val_loss: 2.0209 - val_accuracy: 0.5922\n",
            "Epoch 13/20\n",
            "1644/1644 [==============================] - 4s 2ms/step - loss: 0.5087 - accuracy: 0.7999 - val_loss: 1.8481 - val_accuracy: 0.5898\n",
            "Epoch 14/20\n",
            "1644/1644 [==============================] - 4s 2ms/step - loss: 0.4246 - accuracy: 0.8303 - val_loss: 1.8326 - val_accuracy: 0.5971\n",
            "Epoch 15/20\n",
            "1644/1644 [==============================] - 4s 2ms/step - loss: 0.4203 - accuracy: 0.8358 - val_loss: 1.9433 - val_accuracy: 0.6602\n",
            "Epoch 16/20\n",
            "1644/1644 [==============================] - 4s 2ms/step - loss: 0.4168 - accuracy: 0.8455 - val_loss: 1.9969 - val_accuracy: 0.6092\n",
            "Epoch 17/20\n",
            "1644/1644 [==============================] - 4s 2ms/step - loss: 0.3529 - accuracy: 0.8564 - val_loss: 2.1740 - val_accuracy: 0.6383\n",
            "Epoch 18/20\n",
            "1644/1644 [==============================] - 4s 2ms/step - loss: 0.3949 - accuracy: 0.8607 - val_loss: 1.4685 - val_accuracy: 0.6335\n",
            "Epoch 19/20\n",
            "1644/1644 [==============================] - 4s 2ms/step - loss: 0.3377 - accuracy: 0.8863 - val_loss: 1.7100 - val_accuracy: 0.6481\n",
            "Epoch 20/20\n",
            "1644/1644 [==============================] - 4s 2ms/step - loss: 0.2698 - accuracy: 0.9063 - val_loss: 2.0514 - val_accuracy: 0.6553\n"
          ],
          "name": "stdout"
        }
      ]
    },
    {
      "cell_type": "code",
      "metadata": {
        "id": "AD9zqzJDNkta",
        "colab_type": "code",
        "outputId": "93385221-cd23-4152-9c82-b579b082da9c",
        "colab": {
          "base_uri": "https://localhost:8080/",
          "height": 545
        }
      },
      "source": [
        "#Visualising Performance of the Deep-Model\n",
        "#Although the Model Didn't Overfit , its Max Accuracy is around 66% which is lesser than Previous Results\n",
        "\n",
        "acc = history.history['accuracy']\n",
        "val_acc = history.history['val_accuracy']\n",
        "loss = history.history['loss']\n",
        "val_loss = history.history['val_loss']\n",
        "\n",
        "epochs = range(len(acc))\n",
        "\n",
        "plt.plot(epochs, acc, 'r', label='Training accuracy')\n",
        "plt.plot(epochs, val_acc, 'b', label='Validation accuracy')\n",
        "plt.title('Training and validation accuracy')\n",
        "\n",
        "plt.figure()\n",
        "\n",
        "plt.plot(epochs, loss, 'r', label='Training Loss')\n",
        "plt.plot(epochs, val_loss, 'b', label='Validation Loss')\n",
        "plt.title('Training and validation loss')\n",
        "plt.legend()\n",
        "\n",
        "plt.show()"
      ],
      "execution_count": 0,
      "outputs": [
        {
          "output_type": "display_data",
          "data": {
            "image/png": "[encoded data removed]",
            "text/plain": [
              "<Figure size 432x288 with 1 Axes>"
            ]
          },
          "metadata": {
            "tags": [],
            "needs_background": "light"
          }
        },
        {
          "output_type": "display_data",
          "data": {
            "image/png": "[encoded data removed]",
            "text/plain": [
              "<Figure size 432x288 with 1 Axes>"
            ]
          },
          "metadata": {
            "tags": [],
            "needs_background": "light"
          }
        }
      ]
    },
    {
      "cell_type": "code",
      "metadata": {
        "id": "8F6nPJ9IN-Hy",
        "colab_type": "code",
        "colab": {}
      },
      "source": [
        "#Saving the Model\n",
        "import pickle\n",
        "filename = 'CNN_model_final.sav'\n",
        "pickle.dump(model, open(filename, 'wb'))"
      ],
      "execution_count": 0,
      "outputs": []
    },
    {
      "cell_type": "code",
      "metadata": {
        "id": "EPG0k9I4OncI",
        "colab_type": "code",
        "colab": {}
      },
      "source": [
        "#Model 2\n",
        "#Text Classification using RNN_LSTM"
      ],
      "execution_count": 0,
      "outputs": []
    },
    {
      "cell_type": "code",
      "metadata": {
        "id": "grvrYcKYOtBG",
        "colab_type": "code",
        "colab": {}
      },
      "source": [
        "from keras.layers import Dense, Embedding, LSTM, SpatialDropout1D, Bidirectional\n",
        "from sklearn.model_selection import train_test_split\n",
        "from keras.utils.np_utils import to_categorical\n",
        "from keras.callbacks import EarlyStopping\n",
        "from keras.layers import Dropout"
      ],
      "execution_count": 0,
      "outputs": []
    },
    {
      "cell_type": "code",
      "metadata": {
        "id": "S1uOxg-2O0_O",
        "colab_type": "code",
        "outputId": "0270dcde-9944-4e60-9375-bc6ce2225b12",
        "colab": {
          "base_uri": "https://localhost:8080/",
          "height": 545
        }
      },
      "source": [
        "#Sequential LSTM Model\n",
        "model = Sequential()\n",
        "model.add(Embedding(max_words, EMBEDDING_DIM, input_length=sequences_matrix.shape[1]))\n",
        "model.add(SpatialDropout1D(0.2))\n",
        "model.add((LSTM(200, dropout=0.2, recurrent_dropout=0.2,return_sequences = True))) \n",
        "model.add((LSTM(200, dropout=0.2, recurrent_dropout=0.2,return_sequences = True))) \n",
        "model.add((LSTM(200, dropout=0.2, recurrent_dropout=0.2))) \n",
        "model.add(Dense(256, activation = 'relu'))\n",
        "model.add(Dense(128, activation = 'relu'))\n",
        "model.add(Dense(64, activation = 'relu'))\n",
        "model.add(Dense(32, activation = 'relu'))\n",
        "model.add(Dense(11, activation='softmax'))\n",
        "model.compile(loss='categorical_crossentropy', optimizer='adam', metrics=['accuracy'])\n",
        "print(model.summary())"
      ],
      "execution_count": 0,
      "outputs": [
        {
          "output_type": "stream",
          "text": [
            "Model: \"sequential_2\"\n",
            "_________________________________________________________________\n",
            "Layer (type)                 Output Shape              Param #   \n",
            "=================================================================\n",
            "embedding_2 (Embedding)      (None, 200, 200)          300000    \n",
            "_________________________________________________________________\n",
            "spatial_dropout1d_2 (Spatial (None, 200, 200)          0         \n",
            "_________________________________________________________________\n",
            "lstm_1 (LSTM)                (None, 200, 200)          320800    \n",
            "_________________________________________________________________\n",
            "lstm_2 (LSTM)                (None, 200, 200)          320800    \n",
            "_________________________________________________________________\n",
            "lstm_3 (LSTM)                (None, 200)               320800    \n",
            "_________________________________________________________________\n",
            "dense_6 (Dense)              (None, 256)               51456     \n",
            "_________________________________________________________________\n",
            "dense_7 (Dense)              (None, 128)               32896     \n",
            "_________________________________________________________________\n",
            "dense_8 (Dense)              (None, 64)                8256      \n",
            "_________________________________________________________________\n",
            "dense_9 (Dense)              (None, 32)                2080      \n",
            "_________________________________________________________________\n",
            "dense_10 (Dense)             (None, 11)                363       \n",
            "=================================================================\n",
            "Total params: 1,357,451\n",
            "Trainable params: 1,357,451\n",
            "Non-trainable params: 0\n",
            "_________________________________________________________________\n",
            "None\n"
          ],
          "name": "stdout"
        }
      ]
    },
    {
      "cell_type": "code",
      "metadata": {
        "id": "NK9VIvF0O5MA",
        "colab_type": "code",
        "outputId": "ae389ad7-464e-4ea6-a84a-053db0dc9f65",
        "colab": {
          "base_uri": "https://localhost:8080/",
          "height": 455
        }
      },
      "source": [
        "epochs = 10\n",
        "batch_size = 20\n",
        "\n",
        "history = model.fit(X_train, y_train, epochs=epochs, batch_size=batch_size,validation_split=0.1)"
      ],
      "execution_count": 0,
      "outputs": [
        {
          "output_type": "stream",
          "text": [
            "/usr/local/lib/python3.6/dist-packages/tensorflow/python/framework/indexed_slices.py:434: UserWarning: Converting sparse IndexedSlices to a dense Tensor of unknown shape. This may consume a large amount of memory.\n",
            "  \"Converting sparse IndexedSlices to a dense Tensor of unknown shape. \"\n"
          ],
          "name": "stderr"
        },
        {
          "output_type": "stream",
          "text": [
            "Train on 1850 samples, validate on 206 samples\n",
            "Epoch 1/10\n",
            "1850/1850 [==============================] - 146s 79ms/step - loss: 2.3928 - accuracy: 0.1005 - val_loss: 2.3954 - val_accuracy: 0.1117\n",
            "Epoch 2/10\n",
            "1850/1850 [==============================] - 146s 79ms/step - loss: 2.3885 - accuracy: 0.0989 - val_loss: 2.3919 - val_accuracy: 0.0922\n",
            "Epoch 3/10\n",
            "1850/1850 [==============================] - 146s 79ms/step - loss: 2.3651 - accuracy: 0.1324 - val_loss: 2.4015 - val_accuracy: 0.1311\n",
            "Epoch 4/10\n",
            "1850/1850 [==============================] - 147s 80ms/step - loss: 2.3650 - accuracy: 0.1016 - val_loss: 2.3753 - val_accuracy: 0.1068\n",
            "Epoch 5/10\n",
            "1850/1850 [==============================] - 144s 78ms/step - loss: 2.3665 - accuracy: 0.1070 - val_loss: 2.3766 - val_accuracy: 0.1019\n",
            "Epoch 6/10\n",
            "1850/1850 [==============================] - 144s 78ms/step - loss: 2.3607 - accuracy: 0.1178 - val_loss: 2.3787 - val_accuracy: 0.1068\n",
            "Epoch 7/10\n",
            "1850/1850 [==============================] - 144s 78ms/step - loss: 2.3624 - accuracy: 0.1097 - val_loss: 2.3776 - val_accuracy: 0.1068\n",
            "Epoch 8/10\n",
            "1850/1850 [==============================] - 144s 78ms/step - loss: 2.3336 - accuracy: 0.1259 - val_loss: 2.2429 - val_accuracy: 0.1990\n",
            "Epoch 9/10\n",
            "1850/1850 [==============================] - 147s 80ms/step - loss: 2.2105 - accuracy: 0.1632 - val_loss: 2.1999 - val_accuracy: 0.2136\n",
            "Epoch 10/10\n",
            "1850/1850 [==============================] - 149s 81ms/step - loss: 2.1063 - accuracy: 0.1654 - val_loss: 2.1872 - val_accuracy: 0.1990\n"
          ],
          "name": "stdout"
        }
      ]
    },
    {
      "cell_type": "code",
      "metadata": {
        "id": "Nr7Sp5eLZbmZ",
        "colab_type": "code",
        "colab": {}
      },
      "source": [
        "#The LSTM model performed extremely poorly on Validation DataSet and hence cannot be used"
      ],
      "execution_count": 0,
      "outputs": []
    }
  ]
}