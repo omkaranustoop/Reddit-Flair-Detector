{
  "nbformat": 4,
  "nbformat_minor": 0,
  "metadata": {
    "colab": {
      "name": " Reddit_Crawl_Script.ipynb",
      "provenance": [],
      "collapsed_sections": []
    },
    "kernelspec": {
      "name": "python3",
      "display_name": "Python 3"
    }
  },
  "cells": [
    {
      "cell_type": "code",
      "metadata": {
        "id": "FWKexr6-31Zb",
        "colab_type": "code",
        "outputId": "c562319d-9fb4-4dcb-c430-dc0e4c104ab4",
        "colab": {
          "base_uri": "https://localhost:8080/",
          "height": 365
        }
      },
      "source": [
        "!pip install praw"
      ],
      "execution_count": 0,
      "outputs": [
        {
          "output_type": "stream",
          "text": [
            "Collecting praw\n",
            "\u001b[?25l  Downloading https://files.pythonhosted.org/packages/25/c0/b9714b4fb164368843b41482a3cac11938021871adf99bf5aaa3980b0182/praw-6.5.1-py3-none-any.whl (134kB)\n",
            "\r\u001b[K     |██▍                             | 10kB 15.2MB/s eta 0:00:01\r\u001b[K     |████▉                           | 20kB 3.3MB/s eta 0:00:01\r\u001b[K     |███████▎                        | 30kB 4.0MB/s eta 0:00:01\r\u001b[K     |█████████▊                      | 40kB 3.1MB/s eta 0:00:01\r\u001b[K     |████████████▏                   | 51kB 3.4MB/s eta 0:00:01\r\u001b[K     |██████████████▋                 | 61kB 4.0MB/s eta 0:00:01\r\u001b[K     |█████████████████               | 71kB 4.3MB/s eta 0:00:01\r\u001b[K     |███████████████████▌            | 81kB 4.1MB/s eta 0:00:01\r\u001b[K     |█████████████████████▉          | 92kB 4.5MB/s eta 0:00:01\r\u001b[K     |████████████████████████▎       | 102kB 4.8MB/s eta 0:00:01\r\u001b[K     |██████████████████████████▊     | 112kB 4.8MB/s eta 0:00:01\r\u001b[K     |█████████████████████████████▏  | 122kB 4.8MB/s eta 0:00:01\r\u001b[K     |███████████████████████████████▋| 133kB 4.8MB/s eta 0:00:01\r\u001b[K     |████████████████████████████████| 143kB 4.8MB/s \n",
            "\u001b[?25hCollecting update-checker>=0.16\n",
            "  Downloading https://files.pythonhosted.org/packages/17/c9/ab11855af164d03be0ff4fddd4c46a5bd44799a9ecc1770e01a669c21168/update_checker-0.16-py2.py3-none-any.whl\n",
            "Collecting prawcore<2.0,>=1.0.1\n",
            "  Downloading https://files.pythonhosted.org/packages/76/b5/ce6282dea45cba6f08a30e25d18e0f3d33277e2c9fcbda75644b8dc0089b/prawcore-1.0.1-py2.py3-none-any.whl\n",
            "Collecting websocket-client>=0.54.0\n",
            "\u001b[?25l  Downloading https://files.pythonhosted.org/packages/4c/5f/f61b420143ed1c8dc69f9eaec5ff1ac36109d52c80de49d66e0c36c3dfdf/websocket_client-0.57.0-py2.py3-none-any.whl (200kB)\n",
            "\u001b[K     |████████████████████████████████| 204kB 9.0MB/s \n",
            "\u001b[?25hRequirement already satisfied: requests>=2.3.0 in /usr/local/lib/python3.6/dist-packages (from update-checker>=0.16->praw) (2.21.0)\n",
            "Requirement already satisfied: six in /usr/local/lib/python3.6/dist-packages (from websocket-client>=0.54.0->praw) (1.12.0)\n",
            "Requirement already satisfied: urllib3<1.25,>=1.21.1 in /usr/local/lib/python3.6/dist-packages (from requests>=2.3.0->update-checker>=0.16->praw) (1.24.3)\n",
            "Requirement already satisfied: certifi>=2017.4.17 in /usr/local/lib/python3.6/dist-packages (from requests>=2.3.0->update-checker>=0.16->praw) (2020.4.5.1)\n",
            "Requirement already satisfied: idna<2.9,>=2.5 in /usr/local/lib/python3.6/dist-packages (from requests>=2.3.0->update-checker>=0.16->praw) (2.8)\n",
            "Requirement already satisfied: chardet<3.1.0,>=3.0.2 in /usr/local/lib/python3.6/dist-packages (from requests>=2.3.0->update-checker>=0.16->praw) (3.0.4)\n",
            "Installing collected packages: update-checker, prawcore, websocket-client, praw\n",
            "Successfully installed praw-6.5.1 prawcore-1.0.1 update-checker-0.16 websocket-client-0.57.0\n"
          ],
          "name": "stdout"
        }
      ]
    },
    {
      "cell_type": "code",
      "metadata": {
        "id": "c5O5w7kXgxWS",
        "colab_type": "code",
        "colab": {}
      },
      "source": [
        "import praw\n",
        "from praw.models import MoreComments\n",
        "import pandas as pd\n",
        "\n"
      ],
      "execution_count": 0,
      "outputs": []
    },
    {
      "cell_type": "code",
      "metadata": {
        "id": "sG5ngWa-g_nY",
        "colab_type": "code",
        "colab": {}
      },
      "source": [
        "reddit = praw.Reddit(client_id='#',\n",
        "                     client_secret='#',\n",
        "                     user_agent='#')"
      ],
      "execution_count": 0,
      "outputs": []
    },
    {
      "cell_type": "code",
      "metadata": {
        "id": "1Phf_iylhdXu",
        "colab_type": "code",
        "colab": {}
      },
      "source": [
        "#Subreddit of which data is to be scraped.\n",
        "subreddit = reddit.subreddit('india')"
      ],
      "execution_count": 0,
      "outputs": []
    },
    {
      "cell_type": "code",
      "metadata": {
        "id": "s54rAV-Ho17G",
        "colab_type": "code",
        "colab": {}
      },
      "source": [
        "#List of all the flairs under Reddit India.\n",
        "flairs = [\"Politics\", \"Non-Political\", \"Scheduled\",\n",
        "          \"AskIndia\", \"Sports\",\"Policy/Economy\",\n",
        "          \"Science/Technology\",\"Food\",\"Reddiquette\",\n",
        "          \"Business/Finance\", \"AMA\"]"
      ],
      "execution_count": 0,
      "outputs": []
    },
    {
      "cell_type": "code",
      "metadata": {
        "id": "LTMiJcEhqHJ-",
        "colab_type": "code",
        "colab": {}
      },
      "source": [
        "data_dict = {\"flair\":[], \"title\":[], \"score\":[], \"id\":[], \"url\":[], \"num_comm\": [], \"body\": [], \"created\":[], \"author\":[], \"comments\":[]}\n",
        "\n",
        "for flair in flairs:\n",
        "  \n",
        "  subr = subreddit.search(flair, limit=250)\n",
        "  \n",
        "  for submission in subr:\n",
        "    \n",
        "    data_dict[\"flair\"].append(flair)\n",
        "    data_dict[\"title\"].append(submission.title)\n",
        "    data_dict[\"score\"].append(submission.score)\n",
        "    data_dict[\"id\"].append(submission.id)\n",
        "    data_dict[\"url\"].append(submission.url)\n",
        "    data_dict[\"num_comm\"].append(submission.num_comments)\n",
        "    data_dict[\"body\"].append(submission.selftext)\n",
        "    data_dict[\"created\"].append(submission.created)\n",
        "    data_dict[\"author\"].append(submission.author)\n",
        "    \n",
        "    submission.comments.replace_more(limit=None)\n",
        "    comment = ''\n",
        "    for top_level_comment in submission.comments:\n",
        "      comment = comment + ' ' + top_level_comment.body\n",
        "    data_dict[\"comments\"].append(comment)\n",
        "    \n",
        "Reddit_data = pd.DataFrame(data_dict)"
      ],
      "execution_count": 0,
      "outputs": []
    },
    {
      "cell_type": "code",
      "metadata": {
        "id": "uFIt2dK_ARlZ",
        "colab_type": "code",
        "outputId": "bffdac93-d1fa-43b2-b019-49f8c15d942f",
        "colab": {
          "base_uri": "https://localhost:8080/",
          "height": 595
        }
      },
      "source": [
        "Reddit_data.head(5)"
      ],
      "execution_count": 0,
      "outputs": [
        {
          "output_type": "execute_result",
          "data": {
            "text/html": [
              "<div>\n",
              "<style scoped>\n",
              "    .dataframe tbody tr th:only-of-type {\n",
              "        vertical-align: middle;\n",
              "    }\n",
              "\n",
              "    .dataframe tbody tr th {\n",
              "        vertical-align: top;\n",
              "    }\n",
              "\n",
              "    .dataframe thead th {\n",
              "        text-align: right;\n",
              "    }\n",
              "</style>\n",
              "<table border=\"1\" class=\"dataframe\">\n",
              "  <thead>\n",
              "    <tr style=\"text-align: right;\">\n",
              "      <th></th>\n",
              "      <th>flair</th>\n",
              "      <th>title</th>\n",
              "      <th>score</th>\n",
              "      <th>id</th>\n",
              "      <th>url</th>\n",
              "      <th>num_comm</th>\n",
              "      <th>body</th>\n",
              "      <th>created</th>\n",
              "      <th>author</th>\n",
              "      <th>comments</th>\n",
              "    </tr>\n",
              "  </thead>\n",
              "  <tbody>\n",
              "    <tr>\n",
              "      <th>0</th>\n",
              "      <td>Politics</td>\n",
              "      <td>A polite request to all Indians here</td>\n",
              "      <td>399</td>\n",
              "      <td>g2ct57</td>\n",
              "      <td>https://www.reddit.com/r/india/comments/g2ct57...</td>\n",
              "      <td>82</td>\n",
              "      <td>I don't know if it is the same situation in ot...</td>\n",
              "      <td>1.587063e+09</td>\n",
              "      <td>aaluinsonaout</td>\n",
              "      <td>Our society thrives on abuse of power. We let...</td>\n",
              "    </tr>\n",
              "    <tr>\n",
              "      <th>1</th>\n",
              "      <td>Politics</td>\n",
              "      <td>Pitting a community against a political party ...</td>\n",
              "      <td>198</td>\n",
              "      <td>futac9</td>\n",
              "      <td>https://www.reddit.com/r/india/comments/futac9...</td>\n",
              "      <td>73</td>\n",
              "      <td>First of all let me start by saying it was stu...</td>\n",
              "      <td>1.586034e+09</td>\n",
              "      <td>chillinvillain122</td>\n",
              "      <td>Our country is just too far in at the moment ...</td>\n",
              "    </tr>\n",
              "    <tr>\n",
              "      <th>2</th>\n",
              "      <td>Politics</td>\n",
              "      <td>A new political party gave a full front page a...</td>\n",
              "      <td>727</td>\n",
              "      <td>ff8sth</td>\n",
              "      <td>https://i.redd.it/yjo9wpy38el41.jpg</td>\n",
              "      <td>146</td>\n",
              "      <td></td>\n",
              "      <td>1.583678e+09</td>\n",
              "      <td>aaluinsonaout</td>\n",
              "      <td>This looks like an IIPM ad 1. Where did they ...</td>\n",
              "    </tr>\n",
              "    <tr>\n",
              "      <th>3</th>\n",
              "      <td>Politics</td>\n",
              "      <td>Politics in the time of corona: WB CM question...</td>\n",
              "      <td>87</td>\n",
              "      <td>fxs1vy</td>\n",
              "      <td>https://www.timesnownews.com/india/article/pol...</td>\n",
              "      <td>22</td>\n",
              "      <td></td>\n",
              "      <td>1.586466e+09</td>\n",
              "      <td>ConcernedCitizen034</td>\n",
              "      <td>Oh FFS. \\n\\nYellow, Orange, Green, Red, all a...</td>\n",
              "    </tr>\n",
              "    <tr>\n",
              "      <th>4</th>\n",
              "      <td>Politics</td>\n",
              "      <td>Hit by backlash over posts on lack of medical ...</td>\n",
              "      <td>405</td>\n",
              "      <td>fpaj1w</td>\n",
              "      <td>https://theprint.in/india/hit-by-backlash-over...</td>\n",
              "      <td>67</td>\n",
              "      <td></td>\n",
              "      <td>1.585254e+09</td>\n",
              "      <td>hipporama</td>\n",
              "      <td>Well, Some people really deserve to die. ~~/s...</td>\n",
              "    </tr>\n",
              "  </tbody>\n",
              "</table>\n",
              "</div>"
            ],
            "text/plain": [
              "      flair  ...                                           comments\n",
              "0  Politics  ...   Our society thrives on abuse of power. We let...\n",
              "1  Politics  ...   Our country is just too far in at the moment ...\n",
              "2  Politics  ...   This looks like an IIPM ad 1. Where did they ...\n",
              "3  Politics  ...   Oh FFS. \\n\\nYellow, Orange, Green, Red, all a...\n",
              "4  Politics  ...   Well, Some people really deserve to die. ~~/s...\n",
              "\n",
              "[5 rows x 10 columns]"
            ]
          },
          "metadata": {
            "tags": []
          },
          "execution_count": 7
        }
      ]
    },
    {
      "cell_type": "code",
      "metadata": {
        "id": "67xFhpY0GAa0",
        "colab_type": "code",
        "outputId": "2443c2eb-5132-4fb0-ff85-4d21345c80c0",
        "colab": {
          "base_uri": "https://localhost:8080/",
          "height": 425
        }
      },
      "source": [
        "Reddit_data.tail(5)"
      ],
      "execution_count": 0,
      "outputs": [
        {
          "output_type": "execute_result",
          "data": {
            "text/html": [
              "<div>\n",
              "<style scoped>\n",
              "    .dataframe tbody tr th:only-of-type {\n",
              "        vertical-align: middle;\n",
              "    }\n",
              "\n",
              "    .dataframe tbody tr th {\n",
              "        vertical-align: top;\n",
              "    }\n",
              "\n",
              "    .dataframe thead th {\n",
              "        text-align: right;\n",
              "    }\n",
              "</style>\n",
              "<table border=\"1\" class=\"dataframe\">\n",
              "  <thead>\n",
              "    <tr style=\"text-align: right;\">\n",
              "      <th></th>\n",
              "      <th>flair</th>\n",
              "      <th>title</th>\n",
              "      <th>score</th>\n",
              "      <th>id</th>\n",
              "      <th>url</th>\n",
              "      <th>num_comm</th>\n",
              "      <th>body</th>\n",
              "      <th>created</th>\n",
              "      <th>author</th>\n",
              "      <th>comments</th>\n",
              "    </tr>\n",
              "  </thead>\n",
              "  <tbody>\n",
              "    <tr>\n",
              "      <th>2412</th>\n",
              "      <td>AMA</td>\n",
              "      <td>[AMA] I am a successful YouTuber who just reac...</td>\n",
              "      <td>0</td>\n",
              "      <td>8yb62p</td>\n",
              "      <td>https://www.reddit.com/r/india/comments/8yb62p...</td>\n",
              "      <td>14</td>\n",
              "      <td>https://www.youtube.com/channel/UCnXe-u7669sK2...</td>\n",
              "      <td>1.531441e+09</td>\n",
              "      <td>varnitsingh</td>\n",
              "      <td>[deleted] Is [this](https://www.youtube.com/c...</td>\n",
              "    </tr>\n",
              "    <tr>\n",
              "      <th>2413</th>\n",
              "      <td>AMA</td>\n",
              "      <td>MASAAN director Neeraj Ghaywan here. I'm here ...</td>\n",
              "      <td>207</td>\n",
              "      <td>3f10la</td>\n",
              "      <td>https://www.reddit.com/r/india/comments/3f10la...</td>\n",
              "      <td>198</td>\n",
              "      <td>Thank you for taking time out guys. I *really*...</td>\n",
              "      <td>1.438207e+09</td>\n",
              "      <td>Ghaywan</td>\n",
              "      <td>Will you ever do TV Shows? Because we need go...</td>\n",
              "    </tr>\n",
              "    <tr>\n",
              "      <th>2414</th>\n",
              "      <td>AMA</td>\n",
              "      <td>Hi /r/india, I am Rajeev Chandrasekhar, Member...</td>\n",
              "      <td>319</td>\n",
              "      <td>387req</td>\n",
              "      <td>https://www.reddit.com/r/india/comments/387req...</td>\n",
              "      <td>173</td>\n",
              "      <td>I am Rajeev Chandrasekhar. I am a second time,...</td>\n",
              "      <td>1.433281e+09</td>\n",
              "      <td>rajeev_mp</td>\n",
              "      <td>Why hasnt India's definition for Broadband in...</td>\n",
              "    </tr>\n",
              "    <tr>\n",
              "      <th>2415</th>\n",
              "      <td>AMA</td>\n",
              "      <td>r/IndiaInvestments is having an AMA with Gaura...</td>\n",
              "      <td>18</td>\n",
              "      <td>8hy5eh</td>\n",
              "      <td>https://www.reddit.com/r/india/comments/8hy5eh...</td>\n",
              "      <td>6</td>\n",
              "      <td>https://np.reddit.com/r/IndiaInvestments/comme...</td>\n",
              "      <td>1.525826e+09</td>\n",
              "      <td>ppatra</td>\n",
              "      <td>Supercool! Kuvera is lit :)\\n\\n/u/ppatra you'...</td>\n",
              "    </tr>\n",
              "    <tr>\n",
              "      <th>2416</th>\n",
              "      <td>AMA</td>\n",
              "      <td>[Crosspost] AMA with Ranjit Bajaj, Owner and D...</td>\n",
              "      <td>11</td>\n",
              "      <td>9btlad</td>\n",
              "      <td>https://www.reddit.com/r/india/comments/9btlad...</td>\n",
              "      <td>2</td>\n",
              "      <td>[Here](https://np.reddit.com/r/IndianFootball/...</td>\n",
              "      <td>1.535751e+09</td>\n",
              "      <td>konoha_ka_ladka</td>\n",
              "      <td>Is this the same Minerva that runs Minerva ac...</td>\n",
              "    </tr>\n",
              "  </tbody>\n",
              "</table>\n",
              "</div>"
            ],
            "text/plain": [
              "     flair  ...                                           comments\n",
              "2412   AMA  ...   [deleted] Is [this](https://www.youtube.com/c...\n",
              "2413   AMA  ...   Will you ever do TV Shows? Because we need go...\n",
              "2414   AMA  ...   Why hasnt India's definition for Broadband in...\n",
              "2415   AMA  ...   Supercool! Kuvera is lit :)\\n\\n/u/ppatra you'...\n",
              "2416   AMA  ...   Is this the same Minerva that runs Minerva ac...\n",
              "\n",
              "[5 rows x 10 columns]"
            ]
          },
          "metadata": {
            "tags": []
          },
          "execution_count": 8
        }
      ]
    },
    {
      "cell_type": "code",
      "metadata": {
        "id": "klaz68ldn1Ui",
        "colab_type": "code",
        "colab": {}
      },
      "source": [
        "from google.colab import files\n",
        "\n",
        "Reddit_data.to_csv('Reddit_data.csv')\n",
        "files.download('Reddit_data.csv')"
      ],
      "execution_count": 0,
      "outputs": []
    }
  ]
}
